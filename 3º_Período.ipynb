{
  "nbformat": 4,
  "nbformat_minor": 0,
  "metadata": {
    "colab": {
      "name": "3º Período",
      "provenance": [],
      "authorship_tag": "ABX9TyOLPDXIcboVxAa37d2Mybla",
      "include_colab_link": true
    },
    "kernelspec": {
      "name": "python3",
      "display_name": "Python 3"
    },
    "language_info": {
      "name": "python"
    }
  },
  "cells": [
    {
      "cell_type": "markdown",
      "metadata": {
        "id": "view-in-github",
        "colab_type": "text"
      },
      "source": [
        "<a href=\"https://colab.research.google.com/github/davialvesguerra/trainee-iee/blob/main/3%C2%BA_Per%C3%ADodo.ipynb\" target=\"_parent\"><img src=\"https://colab.research.google.com/assets/colab-badge.svg\" alt=\"Open In Colab\"/></a>"
      ]
    },
    {
      "cell_type": "code",
      "execution_count": 1,
      "metadata": {
        "colab": {
          "base_uri": "https://localhost:8080/"
        },
        "id": "wRM3iDBr_FvO",
        "outputId": "4ce686a0-ab6e-4499-b9f1-8d1c92d5fac1"
      },
      "outputs": [
        {
          "output_type": "stream",
          "name": "stdout",
          "text": [
            "Mounted at /content/gdrive\n"
          ]
        }
      ],
      "source": [
        "import pandas as pd\n",
        "from google.colab import drive\n",
        "import matplotlib.pyplot as plt\n",
        "import numpy as np\n",
        "import seaborn as sns\n",
        "import time\n",
        "\n",
        "drive.mount('/content/gdrive')"
      ]
    },
    {
      "cell_type": "code",
      "source": [
        "df = pd.read_csv('gdrive/My Drive/iee/3º Período/winequality.csv')"
      ],
      "metadata": {
        "id": "VXqD1zmj_W6D"
      },
      "execution_count": 2,
      "outputs": []
    },
    {
      "cell_type": "code",
      "source": [
        "df"
      ],
      "metadata": {
        "colab": {
          "base_uri": "https://localhost:8080/",
          "height": 485
        },
        "id": "6na7ZqfU_ckS",
        "outputId": "8b7ca473-654a-4749-9649-6ef503871594"
      },
      "execution_count": 4,
      "outputs": [
        {
          "output_type": "execute_result",
          "data": {
            "text/html": [
              "\n",
              "  <div id=\"df-90808858-5ad0-46f1-b354-6efc7686001d\">\n",
              "    <div class=\"colab-df-container\">\n",
              "      <div>\n",
              "<style scoped>\n",
              "    .dataframe tbody tr th:only-of-type {\n",
              "        vertical-align: middle;\n",
              "    }\n",
              "\n",
              "    .dataframe tbody tr th {\n",
              "        vertical-align: top;\n",
              "    }\n",
              "\n",
              "    .dataframe thead th {\n",
              "        text-align: right;\n",
              "    }\n",
              "</style>\n",
              "<table border=\"1\" class=\"dataframe\">\n",
              "  <thead>\n",
              "    <tr style=\"text-align: right;\">\n",
              "      <th></th>\n",
              "      <th>Unnamed: 0</th>\n",
              "      <th>fixed acidity</th>\n",
              "      <th>volatile acidity</th>\n",
              "      <th>citric acid</th>\n",
              "      <th>residual sugar</th>\n",
              "      <th>chlorides</th>\n",
              "      <th>free sulfur dioxide</th>\n",
              "      <th>total sulfur dioxide</th>\n",
              "      <th>density</th>\n",
              "      <th>pH</th>\n",
              "      <th>sulphates</th>\n",
              "      <th>alcohol</th>\n",
              "      <th>quality</th>\n",
              "      <th>wine_is_red</th>\n",
              "    </tr>\n",
              "  </thead>\n",
              "  <tbody>\n",
              "    <tr>\n",
              "      <th>0</th>\n",
              "      <td>0</td>\n",
              "      <td>5.9</td>\n",
              "      <td>0.61</td>\n",
              "      <td>0.08</td>\n",
              "      <td>2.1</td>\n",
              "      <td>0.071</td>\n",
              "      <td>16.0</td>\n",
              "      <td>24.0</td>\n",
              "      <td>0.99376</td>\n",
              "      <td>3.56</td>\n",
              "      <td>0.77</td>\n",
              "      <td>11.1</td>\n",
              "      <td>6</td>\n",
              "      <td>1</td>\n",
              "    </tr>\n",
              "    <tr>\n",
              "      <th>1</th>\n",
              "      <td>1</td>\n",
              "      <td>8.2</td>\n",
              "      <td>1.00</td>\n",
              "      <td>0.09</td>\n",
              "      <td>2.3</td>\n",
              "      <td>0.065</td>\n",
              "      <td>7.0</td>\n",
              "      <td>37.0</td>\n",
              "      <td>0.99685</td>\n",
              "      <td>3.32</td>\n",
              "      <td>0.55</td>\n",
              "      <td>9.0</td>\n",
              "      <td>6</td>\n",
              "      <td>1</td>\n",
              "    </tr>\n",
              "    <tr>\n",
              "      <th>2</th>\n",
              "      <td>2</td>\n",
              "      <td>6.4</td>\n",
              "      <td>0.24</td>\n",
              "      <td>0.49</td>\n",
              "      <td>5.8</td>\n",
              "      <td>0.053</td>\n",
              "      <td>25.0</td>\n",
              "      <td>120.0</td>\n",
              "      <td>0.99420</td>\n",
              "      <td>3.01</td>\n",
              "      <td>0.98</td>\n",
              "      <td>10.5</td>\n",
              "      <td>6</td>\n",
              "      <td>0</td>\n",
              "    </tr>\n",
              "    <tr>\n",
              "      <th>3</th>\n",
              "      <td>3</td>\n",
              "      <td>6.6</td>\n",
              "      <td>0.23</td>\n",
              "      <td>0.26</td>\n",
              "      <td>1.3</td>\n",
              "      <td>0.045</td>\n",
              "      <td>16.0</td>\n",
              "      <td>128.0</td>\n",
              "      <td>0.99340</td>\n",
              "      <td>3.36</td>\n",
              "      <td>0.60</td>\n",
              "      <td>10.0</td>\n",
              "      <td>6</td>\n",
              "      <td>0</td>\n",
              "    </tr>\n",
              "    <tr>\n",
              "      <th>4</th>\n",
              "      <td>4</td>\n",
              "      <td>7.2</td>\n",
              "      <td>0.24</td>\n",
              "      <td>0.29</td>\n",
              "      <td>3.0</td>\n",
              "      <td>0.036</td>\n",
              "      <td>17.0</td>\n",
              "      <td>117.0</td>\n",
              "      <td>0.99411</td>\n",
              "      <td>3.36</td>\n",
              "      <td>0.68</td>\n",
              "      <td>10.1</td>\n",
              "      <td>6</td>\n",
              "      <td>0</td>\n",
              "    </tr>\n",
              "    <tr>\n",
              "      <th>...</th>\n",
              "      <td>...</td>\n",
              "      <td>...</td>\n",
              "      <td>...</td>\n",
              "      <td>...</td>\n",
              "      <td>...</td>\n",
              "      <td>...</td>\n",
              "      <td>...</td>\n",
              "      <td>...</td>\n",
              "      <td>...</td>\n",
              "      <td>...</td>\n",
              "      <td>...</td>\n",
              "      <td>...</td>\n",
              "      <td>...</td>\n",
              "      <td>...</td>\n",
              "    </tr>\n",
              "    <tr>\n",
              "      <th>6492</th>\n",
              "      <td>6492</td>\n",
              "      <td>7.7</td>\n",
              "      <td>0.32</td>\n",
              "      <td>0.62</td>\n",
              "      <td>10.6</td>\n",
              "      <td>0.036</td>\n",
              "      <td>56.0</td>\n",
              "      <td>153.0</td>\n",
              "      <td>0.99780</td>\n",
              "      <td>3.13</td>\n",
              "      <td>0.44</td>\n",
              "      <td>8.9</td>\n",
              "      <td>6</td>\n",
              "      <td>0</td>\n",
              "    </tr>\n",
              "    <tr>\n",
              "      <th>6493</th>\n",
              "      <td>6493</td>\n",
              "      <td>6.2</td>\n",
              "      <td>0.22</td>\n",
              "      <td>0.28</td>\n",
              "      <td>2.2</td>\n",
              "      <td>0.040</td>\n",
              "      <td>24.0</td>\n",
              "      <td>125.0</td>\n",
              "      <td>0.99170</td>\n",
              "      <td>3.19</td>\n",
              "      <td>0.48</td>\n",
              "      <td>10.5</td>\n",
              "      <td>6</td>\n",
              "      <td>0</td>\n",
              "    </tr>\n",
              "    <tr>\n",
              "      <th>6494</th>\n",
              "      <td>6494</td>\n",
              "      <td>7.9</td>\n",
              "      <td>0.33</td>\n",
              "      <td>0.28</td>\n",
              "      <td>31.6</td>\n",
              "      <td>0.053</td>\n",
              "      <td>35.0</td>\n",
              "      <td>176.0</td>\n",
              "      <td>1.01030</td>\n",
              "      <td>3.15</td>\n",
              "      <td>0.38</td>\n",
              "      <td>8.8</td>\n",
              "      <td>6</td>\n",
              "      <td>0</td>\n",
              "    </tr>\n",
              "    <tr>\n",
              "      <th>6495</th>\n",
              "      <td>6495</td>\n",
              "      <td>7.0</td>\n",
              "      <td>0.30</td>\n",
              "      <td>0.28</td>\n",
              "      <td>2.2</td>\n",
              "      <td>0.042</td>\n",
              "      <td>21.0</td>\n",
              "      <td>177.0</td>\n",
              "      <td>0.99166</td>\n",
              "      <td>3.20</td>\n",
              "      <td>0.57</td>\n",
              "      <td>11.4</td>\n",
              "      <td>5</td>\n",
              "      <td>0</td>\n",
              "    </tr>\n",
              "    <tr>\n",
              "      <th>6496</th>\n",
              "      <td>6496</td>\n",
              "      <td>6.4</td>\n",
              "      <td>0.22</td>\n",
              "      <td>0.49</td>\n",
              "      <td>7.5</td>\n",
              "      <td>0.054</td>\n",
              "      <td>42.0</td>\n",
              "      <td>151.0</td>\n",
              "      <td>0.99480</td>\n",
              "      <td>3.27</td>\n",
              "      <td>0.52</td>\n",
              "      <td>10.1</td>\n",
              "      <td>6</td>\n",
              "      <td>0</td>\n",
              "    </tr>\n",
              "  </tbody>\n",
              "</table>\n",
              "<p>6497 rows × 14 columns</p>\n",
              "</div>\n",
              "      <button class=\"colab-df-convert\" onclick=\"convertToInteractive('df-90808858-5ad0-46f1-b354-6efc7686001d')\"\n",
              "              title=\"Convert this dataframe to an interactive table.\"\n",
              "              style=\"display:none;\">\n",
              "        \n",
              "  <svg xmlns=\"http://www.w3.org/2000/svg\" height=\"24px\"viewBox=\"0 0 24 24\"\n",
              "       width=\"24px\">\n",
              "    <path d=\"M0 0h24v24H0V0z\" fill=\"none\"/>\n",
              "    <path d=\"M18.56 5.44l.94 2.06.94-2.06 2.06-.94-2.06-.94-.94-2.06-.94 2.06-2.06.94zm-11 1L8.5 8.5l.94-2.06 2.06-.94-2.06-.94L8.5 2.5l-.94 2.06-2.06.94zm10 10l.94 2.06.94-2.06 2.06-.94-2.06-.94-.94-2.06-.94 2.06-2.06.94z\"/><path d=\"M17.41 7.96l-1.37-1.37c-.4-.4-.92-.59-1.43-.59-.52 0-1.04.2-1.43.59L10.3 9.45l-7.72 7.72c-.78.78-.78 2.05 0 2.83L4 21.41c.39.39.9.59 1.41.59.51 0 1.02-.2 1.41-.59l7.78-7.78 2.81-2.81c.8-.78.8-2.07 0-2.86zM5.41 20L4 18.59l7.72-7.72 1.47 1.35L5.41 20z\"/>\n",
              "  </svg>\n",
              "      </button>\n",
              "      \n",
              "  <style>\n",
              "    .colab-df-container {\n",
              "      display:flex;\n",
              "      flex-wrap:wrap;\n",
              "      gap: 12px;\n",
              "    }\n",
              "\n",
              "    .colab-df-convert {\n",
              "      background-color: #E8F0FE;\n",
              "      border: none;\n",
              "      border-radius: 50%;\n",
              "      cursor: pointer;\n",
              "      display: none;\n",
              "      fill: #1967D2;\n",
              "      height: 32px;\n",
              "      padding: 0 0 0 0;\n",
              "      width: 32px;\n",
              "    }\n",
              "\n",
              "    .colab-df-convert:hover {\n",
              "      background-color: #E2EBFA;\n",
              "      box-shadow: 0px 1px 2px rgba(60, 64, 67, 0.3), 0px 1px 3px 1px rgba(60, 64, 67, 0.15);\n",
              "      fill: #174EA6;\n",
              "    }\n",
              "\n",
              "    [theme=dark] .colab-df-convert {\n",
              "      background-color: #3B4455;\n",
              "      fill: #D2E3FC;\n",
              "    }\n",
              "\n",
              "    [theme=dark] .colab-df-convert:hover {\n",
              "      background-color: #434B5C;\n",
              "      box-shadow: 0px 1px 3px 1px rgba(0, 0, 0, 0.15);\n",
              "      filter: drop-shadow(0px 1px 2px rgba(0, 0, 0, 0.3));\n",
              "      fill: #FFFFFF;\n",
              "    }\n",
              "  </style>\n",
              "\n",
              "      <script>\n",
              "        const buttonEl =\n",
              "          document.querySelector('#df-90808858-5ad0-46f1-b354-6efc7686001d button.colab-df-convert');\n",
              "        buttonEl.style.display =\n",
              "          google.colab.kernel.accessAllowed ? 'block' : 'none';\n",
              "\n",
              "        async function convertToInteractive(key) {\n",
              "          const element = document.querySelector('#df-90808858-5ad0-46f1-b354-6efc7686001d');\n",
              "          const dataTable =\n",
              "            await google.colab.kernel.invokeFunction('convertToInteractive',\n",
              "                                                     [key], {});\n",
              "          if (!dataTable) return;\n",
              "\n",
              "          const docLinkHtml = 'Like what you see? Visit the ' +\n",
              "            '<a target=\"_blank\" href=https://colab.research.google.com/notebooks/data_table.ipynb>data table notebook</a>'\n",
              "            + ' to learn more about interactive tables.';\n",
              "          element.innerHTML = '';\n",
              "          dataTable['output_type'] = 'display_data';\n",
              "          await google.colab.output.renderOutput(dataTable, element);\n",
              "          const docLink = document.createElement('div');\n",
              "          docLink.innerHTML = docLinkHtml;\n",
              "          element.appendChild(docLink);\n",
              "        }\n",
              "      </script>\n",
              "    </div>\n",
              "  </div>\n",
              "  "
            ],
            "text/plain": [
              "      Unnamed: 0  fixed acidity  ...  quality  wine_is_red\n",
              "0              0            5.9  ...        6            1\n",
              "1              1            8.2  ...        6            1\n",
              "2              2            6.4  ...        6            0\n",
              "3              3            6.6  ...        6            0\n",
              "4              4            7.2  ...        6            0\n",
              "...          ...            ...  ...      ...          ...\n",
              "6492        6492            7.7  ...        6            0\n",
              "6493        6493            6.2  ...        6            0\n",
              "6494        6494            7.9  ...        6            0\n",
              "6495        6495            7.0  ...        5            0\n",
              "6496        6496            6.4  ...        6            0\n",
              "\n",
              "[6497 rows x 14 columns]"
            ]
          },
          "metadata": {},
          "execution_count": 4
        }
      ]
    },
    {
      "cell_type": "code",
      "source": [
        "def knn(X_test: \"np.array\", X_train, y_train, k):\n",
        "  \n",
        "  #número de linhas que a matriz de valores explicativos possa ter\n",
        "  nrow = X_test.shape[0]\n",
        "  #reservando um vetor de tamanho nrow para os valores da variável resposta\n",
        "  y_pred = np.empty(nrow)\n",
        "\n",
        "  for i in range(nrow):\n",
        "\n",
        "    #capturando a i-ésima linha das variáveis explicativas\n",
        "    x_test = X_test[i,:]\n",
        "\n",
        "    #índice dos X treino\n",
        "    ind = X_train.index\n",
        "    #diferença do Xi para cada linha do X_treino\n",
        "    X_process = X_train - x_test\n",
        "    #elevando os valores ao quadrado\n",
        "    X_process = X_process**2\n",
        "\n",
        "    #fazendo a soma de todos os valores de cada variável e tirando a raiz quadrada para pegar a distância euclidiana de cada observação Xi\n",
        "    X_process = np.sqrt(np.sum(X_process, axis=1))\n",
        "\n",
        "    #realocando o resultado da distância com o respectivo índice das variáveis explicativas \n",
        "    result = np.column_stack([ind,X_process])\n",
        "\n",
        "    #reordenando do menor para o maior\n",
        "    result = result[result[:,1].argsort()]\n",
        "\n",
        "    #pegando os k primeiros resultados\n",
        "    result = y_train[result[:k,0]]\n",
        "\n",
        "    #pegando a observação que mais apareceu\n",
        "    y_pred[i] = np.argmax(np.bincount(result))\n",
        "    \n",
        "  return y_pred\n"
      ],
      "metadata": {
        "id": "v2OY6ZN5OSw_"
      },
      "execution_count": 5,
      "outputs": []
    },
    {
      "cell_type": "code",
      "source": [
        "from sklearn.model_selection import train_test_split\n",
        "from sklearn.metrics import confusion_matrix"
      ],
      "metadata": {
        "id": "Ol5sO0Jf--e3"
      },
      "execution_count": 6,
      "outputs": []
    },
    {
      "cell_type": "markdown",
      "source": [
        "# Relatório\n"
      ],
      "metadata": {
        "id": "J0Zipen-NtKU"
      }
    },
    {
      "cell_type": "markdown",
      "source": [
        "### Classificação binária para prever se o vinho é tinto ou não;"
      ],
      "metadata": {
        "id": "xbAPsvuFN14D"
      }
    },
    {
      "cell_type": "code",
      "source": [
        "X = df.iloc[:,[1,2,3,4,5,6,7,8,9,10,11]]\n",
        "y = df.iloc[:,13]"
      ],
      "metadata": {
        "id": "y4XWwXyQGa_T"
      },
      "execution_count": 7,
      "outputs": []
    },
    {
      "cell_type": "code",
      "source": [
        "from sklearn.preprocessing import StandardScaler\n",
        "from sklearn.decomposition import PCA"
      ],
      "metadata": {
        "id": "065ko5kGPs0y"
      },
      "execution_count": 8,
      "outputs": []
    },
    {
      "cell_type": "code",
      "source": [
        "scaler = StandardScaler()\n",
        "X = scaler.fit_transform(X)"
      ],
      "metadata": {
        "id": "HTcGdR72RuCy"
      },
      "execution_count": 9,
      "outputs": []
    },
    {
      "cell_type": "code",
      "source": [
        "model = PCA()\n",
        "\n",
        "pca_features = model.fit_transform(X)\n",
        "variancia_raio = model.explained_variance_ratio_\n",
        "\n",
        "total_vars = len(variancia_raio)\n",
        "nivel_signif = 1 - 0.05\n",
        "\n",
        "reduc_vars = list(filter(lambda x: sum(variancia_raio[0:x]) > nivel_signif, range(total_vars)))\n",
        "total_reduc_vars = total_vars - len(reduc_vars)\n",
        "print(f\"Total de variáveis:\\n{total_vars}.\\nTotal de variáveis depois de aplicar um nível de significância de {round(1-nivel_signif,2)}:\\n{total_reduc_vars}.\")\n"
      ],
      "metadata": {
        "colab": {
          "base_uri": "https://localhost:8080/"
        },
        "id": "icZZ3t7yQLPQ",
        "outputId": "5c225007-0a4e-4d0f-f61f-35eecbacacbd"
      },
      "execution_count": 12,
      "outputs": [
        {
          "output_type": "stream",
          "name": "stdout",
          "text": [
            "Total de variáveis:\n",
            "11.\n",
            "Total de variáveis depois de aplicar um nível de significância de 0.05:\n",
            "9.\n"
          ]
        }
      ]
    },
    {
      "cell_type": "code",
      "source": [
        "features = range(model.n_components_)\n",
        "plt.bar(features, model.explained_variance_ratio_)\n",
        "plt.xlabel('PCA feature')\n",
        "plt.ylabel('Proporção de cada variância')\n",
        "plt.xticks(features)\n",
        "plt.show()"
      ],
      "metadata": {
        "colab": {
          "base_uri": "https://localhost:8080/",
          "height": 279
        },
        "id": "QmwT9FLdQieg",
        "outputId": "76c8c5fc-e7a3-4405-f58e-d965103d1311"
      },
      "execution_count": 13,
      "outputs": [
        {
          "output_type": "display_data",
          "data": {
            "image/png": "[encoded data removed]",
            "text/plain": [
              "<Figure size 432x288 with 1 Axes>"
            ]
          },
          "metadata": {
            "needs_background": "light"
          }
        }
      ]
    },
    {
      "cell_type": "markdown",
      "source": [
        "utilizando os resultados da pca, vamos utilizar 9 variáveis ao invés de 11, assim reduzindo um pouco o custo computacional, na medida que eu perco 0.05 de informação das minhas variáveis."
      ],
      "metadata": {
        "id": "ynxcUgGXRB6B"
      }
    },
    {
      "cell_type": "code",
      "source": [
        "X = df.iloc[:,[1,2,3,4,5,6,7,8,9,10,11]]\n",
        "\n",
        "pca = PCA(n_components=9)\n",
        "scaler = StandardScaler()\n",
        "\n",
        "X = scaler.fit_transform(X)\n",
        "X = pca.fit_transform(X)"
      ],
      "metadata": {
        "id": "wFb1iIZsRKzS"
      },
      "execution_count": 15,
      "outputs": []
    },
    {
      "cell_type": "code",
      "source": [
        "#usando um k = 3, vamos classificar se o vinho é tinto ou não\n",
        "k = 3\n",
        "X = pd.DataFrame(X)\n",
        "y = df.iloc[:,13]\n",
        "\n",
        "X_train, X_test, y_train, y_test = train_test_split(X, y, test_size=0.3, random_state=42)\n",
        "\n",
        "X_test = X_test.to_numpy() \n",
        "\n",
        "start_time = time.time()\n",
        "y_pred = knn(X_test, X_train, y_train, k=k)\n",
        "end_time = time.time()\n",
        "\n",
        "print(end_time - start_time)\n",
        "conf_matrix = confusion_matrix(y_pred, y_test)"
      ],
      "metadata": {
        "colab": {
          "base_uri": "https://localhost:8080/"
        },
        "id": "YsiQqSS4QAwp",
        "outputId": "8df4e77e-bda2-402c-cc4f-0eefb6daf75d"
      },
      "execution_count": 16,
      "outputs": [
        {
          "output_type": "stream",
          "name": "stdout",
          "text": [
            "7.8945372104644775\n"
          ]
        }
      ]
    },
    {
      "cell_type": "code",
      "source": [
        "ax = sns.heatmap(conf_matrix, annot=True,  fmt='g')\n",
        "ax.set(xlabel='Y pred', ylabel='Y true')\n",
        "plt.show()"
      ],
      "metadata": {
        "id": "kAp9gKyVQdff",
        "colab": {
          "base_uri": "https://localhost:8080/",
          "height": 279
        },
        "outputId": "d1b87254-d4d1-42b0-de19-22fabab6e565"
      },
      "execution_count": 17,
      "outputs": [
        {
          "output_type": "display_data",
          "data": {
            "image/png": "[encoded data removed]",
            "text/plain": [
              "<Figure size 432x288 with 2 Axes>"
            ]
          },
          "metadata": {
            "needs_background": "light"
          }
        }
      ]
    },
    {
      "cell_type": "code",
      "source": [
        "from sklearn.metrics import accuracy_score\n",
        "accr = round(accuracy_score(y_test, y_pred),3)\n",
        "\n",
        "print(f'Utilizando o método knn, com k = {k}, temos que a acurácia é de: {accr}')"
      ],
      "metadata": {
        "colab": {
          "base_uri": "https://localhost:8080/"
        },
        "id": "7me4DO7xUv7F",
        "outputId": "5d28a8ca-d88d-48bf-9a76-6f575e5aa8da"
      },
      "execution_count": 25,
      "outputs": [
        {
          "output_type": "stream",
          "name": "stdout",
          "text": [
            "Utilizando o método knn, com k = 3, temos que a acurácia é de: 0.551\n"
          ]
        }
      ]
    },
    {
      "cell_type": "markdown",
      "source": [
        "### Classificação multiclasse para prever a qualidade do vinho;"
      ],
      "metadata": {
        "id": "juXdCCBoPXtL"
      }
    },
    {
      "cell_type": "code",
      "source": [
        "X = df.iloc[:,[1,2,3,4,5,6,7,8,9,10,11]]\n",
        "\n",
        "pca = PCA(n_components=9)\n",
        "scaler = StandardScaler()\n",
        "\n",
        "X = scaler.fit_transform(X)\n",
        "X = pca.fit_transform(X)"
      ],
      "metadata": {
        "id": "PMKbZSbZT8vY"
      },
      "execution_count": 20,
      "outputs": []
    },
    {
      "cell_type": "code",
      "source": [
        "y = df.iloc[:,12]\n",
        "k = 3\n",
        "\n",
        "X = pd.DataFrame(X)\n",
        "X_train, X_test, y_train, y_test = train_test_split(X, y, test_size=0.3, random_state=42)\n",
        "\n",
        "X_test = X_test.to_numpy() \n",
        "\n",
        "start_time = time.time()\n",
        "y_pred = knn(X_test, X_train, y_train, k=k)\n",
        "end_time = time.time()\n",
        "\n",
        "end_time - start_time\n",
        "\n",
        "conf_matrix = confusion_matrix(y_pred, y_test)"
      ],
      "metadata": {
        "id": "6bn_sQUlPeei"
      },
      "execution_count": 21,
      "outputs": []
    },
    {
      "cell_type": "code",
      "source": [
        "ax = sns.heatmap(conf_matrix, annot=True,  fmt='g')\n",
        "ax.set(xlabel='Y pred', ylabel='Y true')\n",
        "plt.show()"
      ],
      "metadata": {
        "colab": {
          "base_uri": "https://localhost:8080/",
          "height": 279
        },
        "id": "WnU7ZsB1PixK",
        "outputId": "d5b18587-81d6-4daf-e656-3039aff2b39e"
      },
      "execution_count": 26,
      "outputs": [
        {
          "output_type": "display_data",
          "data": {
            "image/png": "[encoded data removed]",
            "text/plain": [
              "<Figure size 432x288 with 2 Axes>"
            ]
          },
          "metadata": {
            "needs_background": "light"
          }
        }
      ]
    },
    {
      "cell_type": "code",
      "source": [
        "accr = round(accuracy_score(y_test, y_pred),3)\n",
        "\n",
        "print(f'Utilizando o método knn, com k = {k}, temos que a acurácia é de: {accr}')"
      ],
      "metadata": {
        "colab": {
          "base_uri": "https://localhost:8080/"
        },
        "id": "aIniWKsnV5BG",
        "outputId": "1a8fb0a4-c21c-439a-b31c-3cac96584bdb"
      },
      "execution_count": 24,
      "outputs": [
        {
          "output_type": "stream",
          "name": "stdout",
          "text": [
            "Utilizando o método knn, com k = 3, temos que a acurácia é de: 0.551\n"
          ]
        }
      ]
    }
  ]
}