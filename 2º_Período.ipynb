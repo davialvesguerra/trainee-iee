{
  "nbformat": 4,
  "nbformat_minor": 0,
  "metadata": {
    "colab": {
      "name": "2º Período",
      "provenance": [],
      "collapsed_sections": [],
      "authorship_tag": "ABX9TyOsKYaB3vR78nFy1auyKh/d",
      "include_colab_link": true
    },
    "kernelspec": {
      "name": "python3",
      "display_name": "Python 3"
    },
    "language_info": {
      "name": "python"
    }
  },
  "cells": [
    {
      "cell_type": "markdown",
      "metadata": {
        "id": "view-in-github",
        "colab_type": "text"
      },
      "source": [
        "<a href=\"https://colab.research.google.com/github/davialvesguerra/trainee-iee/blob/main/2%C2%BA_Per%C3%ADodo.ipynb\" target=\"_parent\"><img src=\"https://colab.research.google.com/assets/colab-badge.svg\" alt=\"Open In Colab\"/></a>"
      ]
    },
    {
      "cell_type": "code",
      "execution_count": 1,
      "metadata": {
        "id": "_yznXv_Piu19",
        "colab": {
          "base_uri": "https://localhost:8080/"
        },
        "outputId": "42955dcf-dccb-44aa-ba0f-b291a61b27f7"
      },
      "outputs": [
        {
          "output_type": "stream",
          "name": "stdout",
          "text": [
            "Mounted at /content/gdrive\n"
          ]
        }
      ],
      "source": [
        "import pandas as pd\n",
        "from google.colab import drive\n",
        "import matplotlib.pyplot as plt\n",
        "import numpy as np\n",
        "import seaborn as sns\n",
        "\n",
        "drive.mount('/content/gdrive')"
      ]
    },
    {
      "cell_type": "markdown",
      "source": [
        "A atividade será dividida em duas análises."
      ],
      "metadata": {
        "id": "YugG1hgT8p31"
      }
    },
    {
      "cell_type": "markdown",
      "source": [
        "#1ª Análise:\n",
        "\n",
        "O objetivo dessa primeira análise é falar dos seguintes temas:\n",
        "- Normalização, utilizando o StandardScaler;\n",
        "- Redimensonamento, utilizando PCA;\n",
        "- e Predição, utilizando Regressão Linear\n"
      ],
      "metadata": {
        "id": "WIVR66g_85w9"
      }
    },
    {
      "cell_type": "markdown",
      "source": [
        "O banco de dados utilizado é um dataset de artigos científicos, no qual existem variáveis que mostram características de cada artigo e no final o objetivo é prever quantos compartilhamentos cada artigo apresentaria.\n"
      ],
      "metadata": {
        "id": "6DmDCyWB9f0f"
      }
    },
    {
      "cell_type": "code",
      "source": [
        "df = pd.read_csv('gdrive/My Drive/iee/2º Período/OnlineNewsPopularity.csv')"
      ],
      "metadata": {
        "id": "ansZTKSNpYJt"
      },
      "execution_count": 2,
      "outputs": []
    },
    {
      "cell_type": "markdown",
      "source": [
        "### Analisando o dataset"
      ],
      "metadata": {
        "id": "m3EFMVrqDl-5"
      }
    },
    {
      "cell_type": "code",
      "source": [
        "df.head()"
      ],
      "metadata": {
        "colab": {
          "base_uri": "https://localhost:8080/",
          "height": 357
        },
        "id": "8d6pXDRhFXPL",
        "outputId": "26cd6a4b-ddc3-4c79-e733-a517f25f2fec"
      },
      "execution_count": 4,
      "outputs": [
        {
          "output_type": "execute_result",
          "data": {
            "text/html": [
              "\n",
              "  <div id=\"df-af13051f-031a-410d-993b-f2656f08f4f9\">\n",
              "    <div class=\"colab-df-container\">\n",
              "      <div>\n",
              "<style scoped>\n",
              "    .dataframe tbody tr th:only-of-type {\n",
              "        vertical-align: middle;\n",
              "    }\n",
              "\n",
              "    .dataframe tbody tr th {\n",
              "        vertical-align: top;\n",
              "    }\n",
              "\n",
              "    .dataframe thead th {\n",
              "        text-align: right;\n",
              "    }\n",
              "</style>\n",
              "<table border=\"1\" class=\"dataframe\">\n",
              "  <thead>\n",
              "    <tr style=\"text-align: right;\">\n",
              "      <th></th>\n",
              "      <th>url</th>\n",
              "      <th>timedelta</th>\n",
              "      <th>n_tokens_title</th>\n",
              "      <th>n_tokens_content</th>\n",
              "      <th>n_unique_tokens</th>\n",
              "      <th>n_non_stop_words</th>\n",
              "      <th>n_non_stop_unique_tokens</th>\n",
              "      <th>num_hrefs</th>\n",
              "      <th>num_self_hrefs</th>\n",
              "      <th>num_imgs</th>\n",
              "      <th>num_videos</th>\n",
              "      <th>average_token_length</th>\n",
              "      <th>num_keywords</th>\n",
              "      <th>data_channel_is_lifestyle</th>\n",
              "      <th>data_channel_is_entertainment</th>\n",
              "      <th>data_channel_is_bus</th>\n",
              "      <th>data_channel_is_socmed</th>\n",
              "      <th>data_channel_is_tech</th>\n",
              "      <th>data_channel_is_world</th>\n",
              "      <th>kw_min_min</th>\n",
              "      <th>kw_max_min</th>\n",
              "      <th>kw_avg_min</th>\n",
              "      <th>kw_min_max</th>\n",
              "      <th>kw_max_max</th>\n",
              "      <th>kw_avg_max</th>\n",
              "      <th>kw_min_avg</th>\n",
              "      <th>kw_max_avg</th>\n",
              "      <th>kw_avg_avg</th>\n",
              "      <th>self_reference_min_shares</th>\n",
              "      <th>self_reference_max_shares</th>\n",
              "      <th>self_reference_avg_sharess</th>\n",
              "      <th>weekday_is_monday</th>\n",
              "      <th>weekday_is_tuesday</th>\n",
              "      <th>weekday_is_wednesday</th>\n",
              "      <th>weekday_is_thursday</th>\n",
              "      <th>weekday_is_friday</th>\n",
              "      <th>weekday_is_saturday</th>\n",
              "      <th>weekday_is_sunday</th>\n",
              "      <th>is_weekend</th>\n",
              "      <th>LDA_00</th>\n",
              "      <th>LDA_01</th>\n",
              "      <th>LDA_02</th>\n",
              "      <th>LDA_03</th>\n",
              "      <th>LDA_04</th>\n",
              "      <th>global_subjectivity</th>\n",
              "      <th>global_sentiment_polarity</th>\n",
              "      <th>global_rate_positive_words</th>\n",
              "      <th>global_rate_negative_words</th>\n",
              "      <th>rate_positive_words</th>\n",
              "      <th>rate_negative_words</th>\n",
              "      <th>avg_positive_polarity</th>\n",
              "      <th>min_positive_polarity</th>\n",
              "      <th>max_positive_polarity</th>\n",
              "      <th>avg_negative_polarity</th>\n",
              "      <th>min_negative_polarity</th>\n",
              "      <th>max_negative_polarity</th>\n",
              "      <th>title_subjectivity</th>\n",
              "      <th>title_sentiment_polarity</th>\n",
              "      <th>abs_title_subjectivity</th>\n",
              "      <th>abs_title_sentiment_polarity</th>\n",
              "      <th>shares</th>\n",
              "    </tr>\n",
              "  </thead>\n",
              "  <tbody>\n",
              "    <tr>\n",
              "      <th>0</th>\n",
              "      <td>http://mashable.com/2013/01/07/amazon-instant-...</td>\n",
              "      <td>731.0</td>\n",
              "      <td>12.0</td>\n",
              "      <td>219.0</td>\n",
              "      <td>0.663594</td>\n",
              "      <td>1.0</td>\n",
              "      <td>0.815385</td>\n",
              "      <td>4.0</td>\n",
              "      <td>2.0</td>\n",
              "      <td>1.0</td>\n",
              "      <td>0.0</td>\n",
              "      <td>4.680365</td>\n",
              "      <td>5.0</td>\n",
              "      <td>0.0</td>\n",
              "      <td>1.0</td>\n",
              "      <td>0.0</td>\n",
              "      <td>0.0</td>\n",
              "      <td>0.0</td>\n",
              "      <td>0.0</td>\n",
              "      <td>0.0</td>\n",
              "      <td>0.0</td>\n",
              "      <td>0.0</td>\n",
              "      <td>0.0</td>\n",
              "      <td>0.0</td>\n",
              "      <td>0.0</td>\n",
              "      <td>0.0</td>\n",
              "      <td>0.0</td>\n",
              "      <td>0.0</td>\n",
              "      <td>496.0</td>\n",
              "      <td>496.0</td>\n",
              "      <td>496.000000</td>\n",
              "      <td>1.0</td>\n",
              "      <td>0.0</td>\n",
              "      <td>0.0</td>\n",
              "      <td>0.0</td>\n",
              "      <td>0.0</td>\n",
              "      <td>0.0</td>\n",
              "      <td>0.0</td>\n",
              "      <td>0.0</td>\n",
              "      <td>0.500331</td>\n",
              "      <td>0.378279</td>\n",
              "      <td>0.040005</td>\n",
              "      <td>0.041263</td>\n",
              "      <td>0.040123</td>\n",
              "      <td>0.521617</td>\n",
              "      <td>0.092562</td>\n",
              "      <td>0.045662</td>\n",
              "      <td>0.013699</td>\n",
              "      <td>0.769231</td>\n",
              "      <td>0.230769</td>\n",
              "      <td>0.378636</td>\n",
              "      <td>0.100000</td>\n",
              "      <td>0.7</td>\n",
              "      <td>-0.350000</td>\n",
              "      <td>-0.600</td>\n",
              "      <td>-0.200000</td>\n",
              "      <td>0.500000</td>\n",
              "      <td>-0.187500</td>\n",
              "      <td>0.000000</td>\n",
              "      <td>0.187500</td>\n",
              "      <td>593</td>\n",
              "    </tr>\n",
              "    <tr>\n",
              "      <th>1</th>\n",
              "      <td>http://mashable.com/2013/01/07/ap-samsung-spon...</td>\n",
              "      <td>731.0</td>\n",
              "      <td>9.0</td>\n",
              "      <td>255.0</td>\n",
              "      <td>0.604743</td>\n",
              "      <td>1.0</td>\n",
              "      <td>0.791946</td>\n",
              "      <td>3.0</td>\n",
              "      <td>1.0</td>\n",
              "      <td>1.0</td>\n",
              "      <td>0.0</td>\n",
              "      <td>4.913725</td>\n",
              "      <td>4.0</td>\n",
              "      <td>0.0</td>\n",
              "      <td>0.0</td>\n",
              "      <td>1.0</td>\n",
              "      <td>0.0</td>\n",
              "      <td>0.0</td>\n",
              "      <td>0.0</td>\n",
              "      <td>0.0</td>\n",
              "      <td>0.0</td>\n",
              "      <td>0.0</td>\n",
              "      <td>0.0</td>\n",
              "      <td>0.0</td>\n",
              "      <td>0.0</td>\n",
              "      <td>0.0</td>\n",
              "      <td>0.0</td>\n",
              "      <td>0.0</td>\n",
              "      <td>0.0</td>\n",
              "      <td>0.0</td>\n",
              "      <td>0.000000</td>\n",
              "      <td>1.0</td>\n",
              "      <td>0.0</td>\n",
              "      <td>0.0</td>\n",
              "      <td>0.0</td>\n",
              "      <td>0.0</td>\n",
              "      <td>0.0</td>\n",
              "      <td>0.0</td>\n",
              "      <td>0.0</td>\n",
              "      <td>0.799756</td>\n",
              "      <td>0.050047</td>\n",
              "      <td>0.050096</td>\n",
              "      <td>0.050101</td>\n",
              "      <td>0.050001</td>\n",
              "      <td>0.341246</td>\n",
              "      <td>0.148948</td>\n",
              "      <td>0.043137</td>\n",
              "      <td>0.015686</td>\n",
              "      <td>0.733333</td>\n",
              "      <td>0.266667</td>\n",
              "      <td>0.286915</td>\n",
              "      <td>0.033333</td>\n",
              "      <td>0.7</td>\n",
              "      <td>-0.118750</td>\n",
              "      <td>-0.125</td>\n",
              "      <td>-0.100000</td>\n",
              "      <td>0.000000</td>\n",
              "      <td>0.000000</td>\n",
              "      <td>0.500000</td>\n",
              "      <td>0.000000</td>\n",
              "      <td>711</td>\n",
              "    </tr>\n",
              "    <tr>\n",
              "      <th>2</th>\n",
              "      <td>http://mashable.com/2013/01/07/apple-40-billio...</td>\n",
              "      <td>731.0</td>\n",
              "      <td>9.0</td>\n",
              "      <td>211.0</td>\n",
              "      <td>0.575130</td>\n",
              "      <td>1.0</td>\n",
              "      <td>0.663866</td>\n",
              "      <td>3.0</td>\n",
              "      <td>1.0</td>\n",
              "      <td>1.0</td>\n",
              "      <td>0.0</td>\n",
              "      <td>4.393365</td>\n",
              "      <td>6.0</td>\n",
              "      <td>0.0</td>\n",
              "      <td>0.0</td>\n",
              "      <td>1.0</td>\n",
              "      <td>0.0</td>\n",
              "      <td>0.0</td>\n",
              "      <td>0.0</td>\n",
              "      <td>0.0</td>\n",
              "      <td>0.0</td>\n",
              "      <td>0.0</td>\n",
              "      <td>0.0</td>\n",
              "      <td>0.0</td>\n",
              "      <td>0.0</td>\n",
              "      <td>0.0</td>\n",
              "      <td>0.0</td>\n",
              "      <td>0.0</td>\n",
              "      <td>918.0</td>\n",
              "      <td>918.0</td>\n",
              "      <td>918.000000</td>\n",
              "      <td>1.0</td>\n",
              "      <td>0.0</td>\n",
              "      <td>0.0</td>\n",
              "      <td>0.0</td>\n",
              "      <td>0.0</td>\n",
              "      <td>0.0</td>\n",
              "      <td>0.0</td>\n",
              "      <td>0.0</td>\n",
              "      <td>0.217792</td>\n",
              "      <td>0.033334</td>\n",
              "      <td>0.033351</td>\n",
              "      <td>0.033334</td>\n",
              "      <td>0.682188</td>\n",
              "      <td>0.702222</td>\n",
              "      <td>0.323333</td>\n",
              "      <td>0.056872</td>\n",
              "      <td>0.009479</td>\n",
              "      <td>0.857143</td>\n",
              "      <td>0.142857</td>\n",
              "      <td>0.495833</td>\n",
              "      <td>0.100000</td>\n",
              "      <td>1.0</td>\n",
              "      <td>-0.466667</td>\n",
              "      <td>-0.800</td>\n",
              "      <td>-0.133333</td>\n",
              "      <td>0.000000</td>\n",
              "      <td>0.000000</td>\n",
              "      <td>0.500000</td>\n",
              "      <td>0.000000</td>\n",
              "      <td>1500</td>\n",
              "    </tr>\n",
              "    <tr>\n",
              "      <th>3</th>\n",
              "      <td>http://mashable.com/2013/01/07/astronaut-notre...</td>\n",
              "      <td>731.0</td>\n",
              "      <td>9.0</td>\n",
              "      <td>531.0</td>\n",
              "      <td>0.503788</td>\n",
              "      <td>1.0</td>\n",
              "      <td>0.665635</td>\n",
              "      <td>9.0</td>\n",
              "      <td>0.0</td>\n",
              "      <td>1.0</td>\n",
              "      <td>0.0</td>\n",
              "      <td>4.404896</td>\n",
              "      <td>7.0</td>\n",
              "      <td>0.0</td>\n",
              "      <td>1.0</td>\n",
              "      <td>0.0</td>\n",
              "      <td>0.0</td>\n",
              "      <td>0.0</td>\n",
              "      <td>0.0</td>\n",
              "      <td>0.0</td>\n",
              "      <td>0.0</td>\n",
              "      <td>0.0</td>\n",
              "      <td>0.0</td>\n",
              "      <td>0.0</td>\n",
              "      <td>0.0</td>\n",
              "      <td>0.0</td>\n",
              "      <td>0.0</td>\n",
              "      <td>0.0</td>\n",
              "      <td>0.0</td>\n",
              "      <td>0.0</td>\n",
              "      <td>0.000000</td>\n",
              "      <td>1.0</td>\n",
              "      <td>0.0</td>\n",
              "      <td>0.0</td>\n",
              "      <td>0.0</td>\n",
              "      <td>0.0</td>\n",
              "      <td>0.0</td>\n",
              "      <td>0.0</td>\n",
              "      <td>0.0</td>\n",
              "      <td>0.028573</td>\n",
              "      <td>0.419300</td>\n",
              "      <td>0.494651</td>\n",
              "      <td>0.028905</td>\n",
              "      <td>0.028572</td>\n",
              "      <td>0.429850</td>\n",
              "      <td>0.100705</td>\n",
              "      <td>0.041431</td>\n",
              "      <td>0.020716</td>\n",
              "      <td>0.666667</td>\n",
              "      <td>0.333333</td>\n",
              "      <td>0.385965</td>\n",
              "      <td>0.136364</td>\n",
              "      <td>0.8</td>\n",
              "      <td>-0.369697</td>\n",
              "      <td>-0.600</td>\n",
              "      <td>-0.166667</td>\n",
              "      <td>0.000000</td>\n",
              "      <td>0.000000</td>\n",
              "      <td>0.500000</td>\n",
              "      <td>0.000000</td>\n",
              "      <td>1200</td>\n",
              "    </tr>\n",
              "    <tr>\n",
              "      <th>4</th>\n",
              "      <td>http://mashable.com/2013/01/07/att-u-verse-apps/</td>\n",
              "      <td>731.0</td>\n",
              "      <td>13.0</td>\n",
              "      <td>1072.0</td>\n",
              "      <td>0.415646</td>\n",
              "      <td>1.0</td>\n",
              "      <td>0.540890</td>\n",
              "      <td>19.0</td>\n",
              "      <td>19.0</td>\n",
              "      <td>20.0</td>\n",
              "      <td>0.0</td>\n",
              "      <td>4.682836</td>\n",
              "      <td>7.0</td>\n",
              "      <td>0.0</td>\n",
              "      <td>0.0</td>\n",
              "      <td>0.0</td>\n",
              "      <td>0.0</td>\n",
              "      <td>1.0</td>\n",
              "      <td>0.0</td>\n",
              "      <td>0.0</td>\n",
              "      <td>0.0</td>\n",
              "      <td>0.0</td>\n",
              "      <td>0.0</td>\n",
              "      <td>0.0</td>\n",
              "      <td>0.0</td>\n",
              "      <td>0.0</td>\n",
              "      <td>0.0</td>\n",
              "      <td>0.0</td>\n",
              "      <td>545.0</td>\n",
              "      <td>16000.0</td>\n",
              "      <td>3151.157895</td>\n",
              "      <td>1.0</td>\n",
              "      <td>0.0</td>\n",
              "      <td>0.0</td>\n",
              "      <td>0.0</td>\n",
              "      <td>0.0</td>\n",
              "      <td>0.0</td>\n",
              "      <td>0.0</td>\n",
              "      <td>0.0</td>\n",
              "      <td>0.028633</td>\n",
              "      <td>0.028794</td>\n",
              "      <td>0.028575</td>\n",
              "      <td>0.028572</td>\n",
              "      <td>0.885427</td>\n",
              "      <td>0.513502</td>\n",
              "      <td>0.281003</td>\n",
              "      <td>0.074627</td>\n",
              "      <td>0.012127</td>\n",
              "      <td>0.860215</td>\n",
              "      <td>0.139785</td>\n",
              "      <td>0.411127</td>\n",
              "      <td>0.033333</td>\n",
              "      <td>1.0</td>\n",
              "      <td>-0.220192</td>\n",
              "      <td>-0.500</td>\n",
              "      <td>-0.050000</td>\n",
              "      <td>0.454545</td>\n",
              "      <td>0.136364</td>\n",
              "      <td>0.045455</td>\n",
              "      <td>0.136364</td>\n",
              "      <td>505</td>\n",
              "    </tr>\n",
              "  </tbody>\n",
              "</table>\n",
              "</div>\n",
              "      <button class=\"colab-df-convert\" onclick=\"convertToInteractive('df-af13051f-031a-410d-993b-f2656f08f4f9')\"\n",
              "              title=\"Convert this dataframe to an interactive table.\"\n",
              "              style=\"display:none;\">\n",
              "        \n",
              "  <svg xmlns=\"http://www.w3.org/2000/svg\" height=\"24px\"viewBox=\"0 0 24 24\"\n",
              "       width=\"24px\">\n",
              "    <path d=\"M0 0h24v24H0V0z\" fill=\"none\"/>\n",
              "    <path d=\"M18.56 5.44l.94 2.06.94-2.06 2.06-.94-2.06-.94-.94-2.06-.94 2.06-2.06.94zm-11 1L8.5 8.5l.94-2.06 2.06-.94-2.06-.94L8.5 2.5l-.94 2.06-2.06.94zm10 10l.94 2.06.94-2.06 2.06-.94-2.06-.94-.94-2.06-.94 2.06-2.06.94z\"/><path d=\"M17.41 7.96l-1.37-1.37c-.4-.4-.92-.59-1.43-.59-.52 0-1.04.2-1.43.59L10.3 9.45l-7.72 7.72c-.78.78-.78 2.05 0 2.83L4 21.41c.39.39.9.59 1.41.59.51 0 1.02-.2 1.41-.59l7.78-7.78 2.81-2.81c.8-.78.8-2.07 0-2.86zM5.41 20L4 18.59l7.72-7.72 1.47 1.35L5.41 20z\"/>\n",
              "  </svg>\n",
              "      </button>\n",
              "      \n",
              "  <style>\n",
              "    .colab-df-container {\n",
              "      display:flex;\n",
              "      flex-wrap:wrap;\n",
              "      gap: 12px;\n",
              "    }\n",
              "\n",
              "    .colab-df-convert {\n",
              "      background-color: #E8F0FE;\n",
              "      border: none;\n",
              "      border-radius: 50%;\n",
              "      cursor: pointer;\n",
              "      display: none;\n",
              "      fill: #1967D2;\n",
              "      height: 32px;\n",
              "      padding: 0 0 0 0;\n",
              "      width: 32px;\n",
              "    }\n",
              "\n",
              "    .colab-df-convert:hover {\n",
              "      background-color: #E2EBFA;\n",
              "      box-shadow: 0px 1px 2px rgba(60, 64, 67, 0.3), 0px 1px 3px 1px rgba(60, 64, 67, 0.15);\n",
              "      fill: #174EA6;\n",
              "    }\n",
              "\n",
              "    [theme=dark] .colab-df-convert {\n",
              "      background-color: #3B4455;\n",
              "      fill: #D2E3FC;\n",
              "    }\n",
              "\n",
              "    [theme=dark] .colab-df-convert:hover {\n",
              "      background-color: #434B5C;\n",
              "      box-shadow: 0px 1px 3px 1px rgba(0, 0, 0, 0.15);\n",
              "      filter: drop-shadow(0px 1px 2px rgba(0, 0, 0, 0.3));\n",
              "      fill: #FFFFFF;\n",
              "    }\n",
              "  </style>\n",
              "\n",
              "      <script>\n",
              "        const buttonEl =\n",
              "          document.querySelector('#df-af13051f-031a-410d-993b-f2656f08f4f9 button.colab-df-convert');\n",
              "        buttonEl.style.display =\n",
              "          google.colab.kernel.accessAllowed ? 'block' : 'none';\n",
              "\n",
              "        async function convertToInteractive(key) {\n",
              "          const element = document.querySelector('#df-af13051f-031a-410d-993b-f2656f08f4f9');\n",
              "          const dataTable =\n",
              "            await google.colab.kernel.invokeFunction('convertToInteractive',\n",
              "                                                     [key], {});\n",
              "          if (!dataTable) return;\n",
              "\n",
              "          const docLinkHtml = 'Like what you see? Visit the ' +\n",
              "            '<a target=\"_blank\" href=https://colab.research.google.com/notebooks/data_table.ipynb>data table notebook</a>'\n",
              "            + ' to learn more about interactive tables.';\n",
              "          element.innerHTML = '';\n",
              "          dataTable['output_type'] = 'display_data';\n",
              "          await google.colab.output.renderOutput(dataTable, element);\n",
              "          const docLink = document.createElement('div');\n",
              "          docLink.innerHTML = docLinkHtml;\n",
              "          element.appendChild(docLink);\n",
              "        }\n",
              "      </script>\n",
              "    </div>\n",
              "  </div>\n",
              "  "
            ],
            "text/plain": [
              "                                                 url  ...   shares\n",
              "0  http://mashable.com/2013/01/07/amazon-instant-...  ...      593\n",
              "1  http://mashable.com/2013/01/07/ap-samsung-spon...  ...      711\n",
              "2  http://mashable.com/2013/01/07/apple-40-billio...  ...     1500\n",
              "3  http://mashable.com/2013/01/07/astronaut-notre...  ...     1200\n",
              "4   http://mashable.com/2013/01/07/att-u-verse-apps/  ...      505\n",
              "\n",
              "[5 rows x 61 columns]"
            ]
          },
          "metadata": {},
          "execution_count": 4
        }
      ]
    },
    {
      "cell_type": "markdown",
      "source": [
        "O primeiro problema apresentado é o das colunas que tem um espaço na frente: "
      ],
      "metadata": {
        "id": "1MD3SmTrHPY6"
      }
    },
    {
      "cell_type": "code",
      "source": [
        "print(df.columns)"
      ],
      "metadata": {
        "colab": {
          "base_uri": "https://localhost:8080/"
        },
        "id": "_bn0I3_8HO57",
        "outputId": "7fa56d81-8e2b-4024-ea26-cda147ce5db1"
      },
      "execution_count": 5,
      "outputs": [
        {
          "output_type": "stream",
          "name": "stdout",
          "text": [
            "Index(['url', ' timedelta', ' n_tokens_title', ' n_tokens_content',\n",
            "       ' n_unique_tokens', ' n_non_stop_words', ' n_non_stop_unique_tokens',\n",
            "       ' num_hrefs', ' num_self_hrefs', ' num_imgs', ' num_videos',\n",
            "       ' average_token_length', ' num_keywords', ' data_channel_is_lifestyle',\n",
            "       ' data_channel_is_entertainment', ' data_channel_is_bus',\n",
            "       ' data_channel_is_socmed', ' data_channel_is_tech',\n",
            "       ' data_channel_is_world', ' kw_min_min', ' kw_max_min', ' kw_avg_min',\n",
            "       ' kw_min_max', ' kw_max_max', ' kw_avg_max', ' kw_min_avg',\n",
            "       ' kw_max_avg', ' kw_avg_avg', ' self_reference_min_shares',\n",
            "       ' self_reference_max_shares', ' self_reference_avg_sharess',\n",
            "       ' weekday_is_monday', ' weekday_is_tuesday', ' weekday_is_wednesday',\n",
            "       ' weekday_is_thursday', ' weekday_is_friday', ' weekday_is_saturday',\n",
            "       ' weekday_is_sunday', ' is_weekend', ' LDA_00', ' LDA_01', ' LDA_02',\n",
            "       ' LDA_03', ' LDA_04', ' global_subjectivity',\n",
            "       ' global_sentiment_polarity', ' global_rate_positive_words',\n",
            "       ' global_rate_negative_words', ' rate_positive_words',\n",
            "       ' rate_negative_words', ' avg_positive_polarity',\n",
            "       ' min_positive_polarity', ' max_positive_polarity',\n",
            "       ' avg_negative_polarity', ' min_negative_polarity',\n",
            "       ' max_negative_polarity', ' title_subjectivity',\n",
            "       ' title_sentiment_polarity', ' abs_title_subjectivity',\n",
            "       ' abs_title_sentiment_polarity', ' shares'],\n",
            "      dtype='object')\n"
          ]
        }
      ]
    },
    {
      "cell_type": "markdown",
      "source": [
        "renomeando: "
      ],
      "metadata": {
        "id": "UW-baDNxHc8h"
      }
    },
    {
      "cell_type": "code",
      "source": [
        "name_columns = [ _.strip() for _ in df.columns]\n",
        "\n",
        "df = df.set_axis(name_columns, axis=1)\n",
        "\n",
        "print(df.columns)"
      ],
      "metadata": {
        "colab": {
          "base_uri": "https://localhost:8080/"
        },
        "id": "NUyxS0jkFcyx",
        "outputId": "ac526d4c-523e-42d1-df0f-b0077dffde51"
      },
      "execution_count": 6,
      "outputs": [
        {
          "output_type": "stream",
          "name": "stdout",
          "text": [
            "Index(['url', 'timedelta', 'n_tokens_title', 'n_tokens_content',\n",
            "       'n_unique_tokens', 'n_non_stop_words', 'n_non_stop_unique_tokens',\n",
            "       'num_hrefs', 'num_self_hrefs', 'num_imgs', 'num_videos',\n",
            "       'average_token_length', 'num_keywords', 'data_channel_is_lifestyle',\n",
            "       'data_channel_is_entertainment', 'data_channel_is_bus',\n",
            "       'data_channel_is_socmed', 'data_channel_is_tech',\n",
            "       'data_channel_is_world', 'kw_min_min', 'kw_max_min', 'kw_avg_min',\n",
            "       'kw_min_max', 'kw_max_max', 'kw_avg_max', 'kw_min_avg', 'kw_max_avg',\n",
            "       'kw_avg_avg', 'self_reference_min_shares', 'self_reference_max_shares',\n",
            "       'self_reference_avg_sharess', 'weekday_is_monday', 'weekday_is_tuesday',\n",
            "       'weekday_is_wednesday', 'weekday_is_thursday', 'weekday_is_friday',\n",
            "       'weekday_is_saturday', 'weekday_is_sunday', 'is_weekend', 'LDA_00',\n",
            "       'LDA_01', 'LDA_02', 'LDA_03', 'LDA_04', 'global_subjectivity',\n",
            "       'global_sentiment_polarity', 'global_rate_positive_words',\n",
            "       'global_rate_negative_words', 'rate_positive_words',\n",
            "       'rate_negative_words', 'avg_positive_polarity', 'min_positive_polarity',\n",
            "       'max_positive_polarity', 'avg_negative_polarity',\n",
            "       'min_negative_polarity', 'max_negative_polarity', 'title_subjectivity',\n",
            "       'title_sentiment_polarity', 'abs_title_subjectivity',\n",
            "       'abs_title_sentiment_polarity', 'shares'],\n",
            "      dtype='object')\n"
          ]
        }
      ]
    },
    {
      "cell_type": "code",
      "source": [
        "df.dtypes.unique()"
      ],
      "metadata": {
        "colab": {
          "base_uri": "https://localhost:8080/"
        },
        "id": "5SSfhQOKGN0j",
        "outputId": "21c68546-1be5-4071-b8ea-29904daf0c7f"
      },
      "execution_count": 7,
      "outputs": [
        {
          "output_type": "execute_result",
          "data": {
            "text/plain": [
              "array([dtype('O'), dtype('float64'), dtype('int64')], dtype=object)"
            ]
          },
          "metadata": {},
          "execution_count": 7
        }
      ]
    },
    {
      "cell_type": "markdown",
      "source": [
        "Verificando os tipos das colunas é possível observar que a maioria apresenta os dados como no tipo numérico, mas observando a quantidade de valores únicos em cada coluna é visível que algumas delas apresentam valores binários, dando a entender que possam ser variáveis categóricas"
      ],
      "metadata": {
        "id": "A7-iYg-fH6GB"
      }
    },
    {
      "cell_type": "code",
      "source": [
        "[[x,df[x].nunique()] for x in df]"
      ],
      "metadata": {
        "id": "WptyeXiUq2lW",
        "colab": {
          "base_uri": "https://localhost:8080/"
        },
        "outputId": "a16e060a-4646-447c-feac-cb9cc5845144"
      },
      "execution_count": 8,
      "outputs": [
        {
          "output_type": "execute_result",
          "data": {
            "text/plain": [
              "[['url', 39644],\n",
              " ['timedelta', 724],\n",
              " ['n_tokens_title', 20],\n",
              " ['n_tokens_content', 2406],\n",
              " ['n_unique_tokens', 27281],\n",
              " ['n_non_stop_words', 1451],\n",
              " ['n_non_stop_unique_tokens', 22930],\n",
              " ['num_hrefs', 133],\n",
              " ['num_self_hrefs', 59],\n",
              " ['num_imgs', 91],\n",
              " ['num_videos', 53],\n",
              " ['average_token_length', 30136],\n",
              " ['num_keywords', 10],\n",
              " ['data_channel_is_lifestyle', 2],\n",
              " ['data_channel_is_entertainment', 2],\n",
              " ['data_channel_is_bus', 2],\n",
              " ['data_channel_is_socmed', 2],\n",
              " ['data_channel_is_tech', 2],\n",
              " ['data_channel_is_world', 2],\n",
              " ['kw_min_min', 26],\n",
              " ['kw_max_min', 1076],\n",
              " ['kw_avg_min', 17003],\n",
              " ['kw_min_max', 1021],\n",
              " ['kw_max_max', 35],\n",
              " ['kw_avg_max', 30834],\n",
              " ['kw_min_avg', 15982],\n",
              " ['kw_max_avg', 19438],\n",
              " ['kw_avg_avg', 39300],\n",
              " ['self_reference_min_shares', 1255],\n",
              " ['self_reference_max_shares', 1137],\n",
              " ['self_reference_avg_sharess', 8626],\n",
              " ['weekday_is_monday', 2],\n",
              " ['weekday_is_tuesday', 2],\n",
              " ['weekday_is_wednesday', 2],\n",
              " ['weekday_is_thursday', 2],\n",
              " ['weekday_is_friday', 2],\n",
              " ['weekday_is_saturday', 2],\n",
              " ['weekday_is_sunday', 2],\n",
              " ['is_weekend', 2],\n",
              " ['LDA_00', 39337],\n",
              " ['LDA_01', 39098],\n",
              " ['LDA_02', 39525],\n",
              " ['LDA_03', 38963],\n",
              " ['LDA_04', 39370],\n",
              " ['global_subjectivity', 34501],\n",
              " ['global_sentiment_polarity', 34695],\n",
              " ['global_rate_positive_words', 13159],\n",
              " ['global_rate_negative_words', 10271],\n",
              " ['rate_positive_words', 2284],\n",
              " ['rate_negative_words', 2284],\n",
              " ['avg_positive_polarity', 27301],\n",
              " ['min_positive_polarity', 33],\n",
              " ['max_positive_polarity', 38],\n",
              " ['avg_negative_polarity', 13841],\n",
              " ['min_negative_polarity', 54],\n",
              " ['max_negative_polarity', 49],\n",
              " ['title_subjectivity', 673],\n",
              " ['title_sentiment_polarity', 813],\n",
              " ['abs_title_subjectivity', 532],\n",
              " ['abs_title_sentiment_polarity', 653],\n",
              " ['shares', 1454]]"
            ]
          },
          "metadata": {},
          "execution_count": 8
        }
      ]
    },
    {
      "cell_type": "markdown",
      "source": [
        "Afim de trabalhar somente com as variáveis numéricas, vamos transformar essas possíveis variáveis categóricas em strings"
      ],
      "metadata": {
        "id": "Y3I2HSFcIpPh"
      }
    },
    {
      "cell_type": "code",
      "source": [
        "chars_cols = [x for x in df if df[x].nunique() == 2]\n",
        "num_cols =   [x for x in df if df[x].nunique() != 2]\n",
        "\n",
        "#retirando a primeira coluna, pois é a coluna de url e a última que é a que queremos prever\n",
        "num_cols = num_cols[1:-1]\n",
        "\n",
        "df.loc[:,chars_cols] = df.loc[:,chars_cols].astype(str)\n",
        "\n",
        "df.describe()"
      ],
      "metadata": {
        "colab": {
          "base_uri": "https://localhost:8080/",
          "height": 364
        },
        "id": "UYrYLpFrInP7",
        "outputId": "41f0422e-e18a-4182-ab41-186b1d49d30f"
      },
      "execution_count": 9,
      "outputs": [
        {
          "output_type": "execute_result",
          "data": {
            "text/html": [
              "\n",
              "  <div id=\"df-e24cc9a0-9da5-401e-9635-a9b491730e48\">\n",
              "    <div class=\"colab-df-container\">\n",
              "      <div>\n",
              "<style scoped>\n",
              "    .dataframe tbody tr th:only-of-type {\n",
              "        vertical-align: middle;\n",
              "    }\n",
              "\n",
              "    .dataframe tbody tr th {\n",
              "        vertical-align: top;\n",
              "    }\n",
              "\n",
              "    .dataframe thead th {\n",
              "        text-align: right;\n",
              "    }\n",
              "</style>\n",
              "<table border=\"1\" class=\"dataframe\">\n",
              "  <thead>\n",
              "    <tr style=\"text-align: right;\">\n",
              "      <th></th>\n",
              "      <th>timedelta</th>\n",
              "      <th>n_tokens_title</th>\n",
              "      <th>n_tokens_content</th>\n",
              "      <th>n_unique_tokens</th>\n",
              "      <th>n_non_stop_words</th>\n",
              "      <th>n_non_stop_unique_tokens</th>\n",
              "      <th>num_hrefs</th>\n",
              "      <th>num_self_hrefs</th>\n",
              "      <th>num_imgs</th>\n",
              "      <th>num_videos</th>\n",
              "      <th>average_token_length</th>\n",
              "      <th>num_keywords</th>\n",
              "      <th>kw_min_min</th>\n",
              "      <th>kw_max_min</th>\n",
              "      <th>kw_avg_min</th>\n",
              "      <th>kw_min_max</th>\n",
              "      <th>kw_max_max</th>\n",
              "      <th>kw_avg_max</th>\n",
              "      <th>kw_min_avg</th>\n",
              "      <th>kw_max_avg</th>\n",
              "      <th>kw_avg_avg</th>\n",
              "      <th>self_reference_min_shares</th>\n",
              "      <th>self_reference_max_shares</th>\n",
              "      <th>self_reference_avg_sharess</th>\n",
              "      <th>LDA_00</th>\n",
              "      <th>LDA_01</th>\n",
              "      <th>LDA_02</th>\n",
              "      <th>LDA_03</th>\n",
              "      <th>LDA_04</th>\n",
              "      <th>global_subjectivity</th>\n",
              "      <th>global_sentiment_polarity</th>\n",
              "      <th>global_rate_positive_words</th>\n",
              "      <th>global_rate_negative_words</th>\n",
              "      <th>rate_positive_words</th>\n",
              "      <th>rate_negative_words</th>\n",
              "      <th>avg_positive_polarity</th>\n",
              "      <th>min_positive_polarity</th>\n",
              "      <th>max_positive_polarity</th>\n",
              "      <th>avg_negative_polarity</th>\n",
              "      <th>min_negative_polarity</th>\n",
              "      <th>max_negative_polarity</th>\n",
              "      <th>title_subjectivity</th>\n",
              "      <th>title_sentiment_polarity</th>\n",
              "      <th>abs_title_subjectivity</th>\n",
              "      <th>abs_title_sentiment_polarity</th>\n",
              "      <th>shares</th>\n",
              "    </tr>\n",
              "  </thead>\n",
              "  <tbody>\n",
              "    <tr>\n",
              "      <th>count</th>\n",
              "      <td>39644.000000</td>\n",
              "      <td>39644.000000</td>\n",
              "      <td>39644.000000</td>\n",
              "      <td>39644.000000</td>\n",
              "      <td>39644.000000</td>\n",
              "      <td>39644.000000</td>\n",
              "      <td>39644.000000</td>\n",
              "      <td>39644.000000</td>\n",
              "      <td>39644.000000</td>\n",
              "      <td>39644.000000</td>\n",
              "      <td>39644.000000</td>\n",
              "      <td>39644.000000</td>\n",
              "      <td>39644.000000</td>\n",
              "      <td>39644.000000</td>\n",
              "      <td>39644.000000</td>\n",
              "      <td>39644.000000</td>\n",
              "      <td>39644.000000</td>\n",
              "      <td>39644.000000</td>\n",
              "      <td>39644.000000</td>\n",
              "      <td>39644.000000</td>\n",
              "      <td>39644.000000</td>\n",
              "      <td>39644.000000</td>\n",
              "      <td>39644.000000</td>\n",
              "      <td>39644.000000</td>\n",
              "      <td>39644.000000</td>\n",
              "      <td>39644.000000</td>\n",
              "      <td>39644.000000</td>\n",
              "      <td>39644.000000</td>\n",
              "      <td>39644.000000</td>\n",
              "      <td>39644.000000</td>\n",
              "      <td>39644.000000</td>\n",
              "      <td>39644.000000</td>\n",
              "      <td>39644.000000</td>\n",
              "      <td>39644.000000</td>\n",
              "      <td>39644.000000</td>\n",
              "      <td>39644.000000</td>\n",
              "      <td>39644.000000</td>\n",
              "      <td>39644.000000</td>\n",
              "      <td>39644.000000</td>\n",
              "      <td>39644.000000</td>\n",
              "      <td>39644.000000</td>\n",
              "      <td>39644.000000</td>\n",
              "      <td>39644.000000</td>\n",
              "      <td>39644.000000</td>\n",
              "      <td>39644.000000</td>\n",
              "      <td>39644.000000</td>\n",
              "    </tr>\n",
              "    <tr>\n",
              "      <th>mean</th>\n",
              "      <td>354.530471</td>\n",
              "      <td>10.398749</td>\n",
              "      <td>546.514731</td>\n",
              "      <td>0.548216</td>\n",
              "      <td>0.996469</td>\n",
              "      <td>0.689175</td>\n",
              "      <td>10.883690</td>\n",
              "      <td>3.293638</td>\n",
              "      <td>4.544143</td>\n",
              "      <td>1.249874</td>\n",
              "      <td>4.548239</td>\n",
              "      <td>7.223767</td>\n",
              "      <td>26.106801</td>\n",
              "      <td>1153.951682</td>\n",
              "      <td>312.366967</td>\n",
              "      <td>13612.354102</td>\n",
              "      <td>752324.066694</td>\n",
              "      <td>259281.938083</td>\n",
              "      <td>1117.146610</td>\n",
              "      <td>5657.211151</td>\n",
              "      <td>3135.858639</td>\n",
              "      <td>3998.755396</td>\n",
              "      <td>10329.212662</td>\n",
              "      <td>6401.697580</td>\n",
              "      <td>0.184599</td>\n",
              "      <td>0.141256</td>\n",
              "      <td>0.216321</td>\n",
              "      <td>0.223770</td>\n",
              "      <td>0.234029</td>\n",
              "      <td>0.443370</td>\n",
              "      <td>0.119309</td>\n",
              "      <td>0.039625</td>\n",
              "      <td>0.016612</td>\n",
              "      <td>0.682150</td>\n",
              "      <td>0.287934</td>\n",
              "      <td>0.353825</td>\n",
              "      <td>0.095446</td>\n",
              "      <td>0.756728</td>\n",
              "      <td>-0.259524</td>\n",
              "      <td>-0.521944</td>\n",
              "      <td>-0.107500</td>\n",
              "      <td>0.282353</td>\n",
              "      <td>0.071425</td>\n",
              "      <td>0.341843</td>\n",
              "      <td>0.156064</td>\n",
              "      <td>3395.380184</td>\n",
              "    </tr>\n",
              "    <tr>\n",
              "      <th>std</th>\n",
              "      <td>214.163767</td>\n",
              "      <td>2.114037</td>\n",
              "      <td>471.107508</td>\n",
              "      <td>3.520708</td>\n",
              "      <td>5.231231</td>\n",
              "      <td>3.264816</td>\n",
              "      <td>11.332017</td>\n",
              "      <td>3.855141</td>\n",
              "      <td>8.309434</td>\n",
              "      <td>4.107855</td>\n",
              "      <td>0.844406</td>\n",
              "      <td>1.909130</td>\n",
              "      <td>69.633215</td>\n",
              "      <td>3857.990877</td>\n",
              "      <td>620.783887</td>\n",
              "      <td>57986.029357</td>\n",
              "      <td>214502.129573</td>\n",
              "      <td>135102.247285</td>\n",
              "      <td>1137.456951</td>\n",
              "      <td>6098.871957</td>\n",
              "      <td>1318.150397</td>\n",
              "      <td>19738.670516</td>\n",
              "      <td>41027.576613</td>\n",
              "      <td>24211.332231</td>\n",
              "      <td>0.262975</td>\n",
              "      <td>0.219707</td>\n",
              "      <td>0.282145</td>\n",
              "      <td>0.295191</td>\n",
              "      <td>0.289183</td>\n",
              "      <td>0.116685</td>\n",
              "      <td>0.096931</td>\n",
              "      <td>0.017429</td>\n",
              "      <td>0.010828</td>\n",
              "      <td>0.190206</td>\n",
              "      <td>0.156156</td>\n",
              "      <td>0.104542</td>\n",
              "      <td>0.071315</td>\n",
              "      <td>0.247786</td>\n",
              "      <td>0.127726</td>\n",
              "      <td>0.290290</td>\n",
              "      <td>0.095373</td>\n",
              "      <td>0.324247</td>\n",
              "      <td>0.265450</td>\n",
              "      <td>0.188791</td>\n",
              "      <td>0.226294</td>\n",
              "      <td>11626.950749</td>\n",
              "    </tr>\n",
              "    <tr>\n",
              "      <th>min</th>\n",
              "      <td>8.000000</td>\n",
              "      <td>2.000000</td>\n",
              "      <td>0.000000</td>\n",
              "      <td>0.000000</td>\n",
              "      <td>0.000000</td>\n",
              "      <td>0.000000</td>\n",
              "      <td>0.000000</td>\n",
              "      <td>0.000000</td>\n",
              "      <td>0.000000</td>\n",
              "      <td>0.000000</td>\n",
              "      <td>0.000000</td>\n",
              "      <td>1.000000</td>\n",
              "      <td>-1.000000</td>\n",
              "      <td>0.000000</td>\n",
              "      <td>-1.000000</td>\n",
              "      <td>0.000000</td>\n",
              "      <td>0.000000</td>\n",
              "      <td>0.000000</td>\n",
              "      <td>-1.000000</td>\n",
              "      <td>0.000000</td>\n",
              "      <td>0.000000</td>\n",
              "      <td>0.000000</td>\n",
              "      <td>0.000000</td>\n",
              "      <td>0.000000</td>\n",
              "      <td>0.000000</td>\n",
              "      <td>0.000000</td>\n",
              "      <td>0.000000</td>\n",
              "      <td>0.000000</td>\n",
              "      <td>0.000000</td>\n",
              "      <td>0.000000</td>\n",
              "      <td>-0.393750</td>\n",
              "      <td>0.000000</td>\n",
              "      <td>0.000000</td>\n",
              "      <td>0.000000</td>\n",
              "      <td>0.000000</td>\n",
              "      <td>0.000000</td>\n",
              "      <td>0.000000</td>\n",
              "      <td>0.000000</td>\n",
              "      <td>-1.000000</td>\n",
              "      <td>-1.000000</td>\n",
              "      <td>-1.000000</td>\n",
              "      <td>0.000000</td>\n",
              "      <td>-1.000000</td>\n",
              "      <td>0.000000</td>\n",
              "      <td>0.000000</td>\n",
              "      <td>1.000000</td>\n",
              "    </tr>\n",
              "    <tr>\n",
              "      <th>25%</th>\n",
              "      <td>164.000000</td>\n",
              "      <td>9.000000</td>\n",
              "      <td>246.000000</td>\n",
              "      <td>0.470870</td>\n",
              "      <td>1.000000</td>\n",
              "      <td>0.625739</td>\n",
              "      <td>4.000000</td>\n",
              "      <td>1.000000</td>\n",
              "      <td>1.000000</td>\n",
              "      <td>0.000000</td>\n",
              "      <td>4.478404</td>\n",
              "      <td>6.000000</td>\n",
              "      <td>-1.000000</td>\n",
              "      <td>445.000000</td>\n",
              "      <td>141.750000</td>\n",
              "      <td>0.000000</td>\n",
              "      <td>843300.000000</td>\n",
              "      <td>172846.875000</td>\n",
              "      <td>0.000000</td>\n",
              "      <td>3562.101631</td>\n",
              "      <td>2382.448566</td>\n",
              "      <td>639.000000</td>\n",
              "      <td>1100.000000</td>\n",
              "      <td>981.187500</td>\n",
              "      <td>0.025051</td>\n",
              "      <td>0.025012</td>\n",
              "      <td>0.028571</td>\n",
              "      <td>0.028571</td>\n",
              "      <td>0.028574</td>\n",
              "      <td>0.396167</td>\n",
              "      <td>0.057757</td>\n",
              "      <td>0.028384</td>\n",
              "      <td>0.009615</td>\n",
              "      <td>0.600000</td>\n",
              "      <td>0.185185</td>\n",
              "      <td>0.306244</td>\n",
              "      <td>0.050000</td>\n",
              "      <td>0.600000</td>\n",
              "      <td>-0.328383</td>\n",
              "      <td>-0.700000</td>\n",
              "      <td>-0.125000</td>\n",
              "      <td>0.000000</td>\n",
              "      <td>0.000000</td>\n",
              "      <td>0.166667</td>\n",
              "      <td>0.000000</td>\n",
              "      <td>946.000000</td>\n",
              "    </tr>\n",
              "    <tr>\n",
              "      <th>50%</th>\n",
              "      <td>339.000000</td>\n",
              "      <td>10.000000</td>\n",
              "      <td>409.000000</td>\n",
              "      <td>0.539226</td>\n",
              "      <td>1.000000</td>\n",
              "      <td>0.690476</td>\n",
              "      <td>8.000000</td>\n",
              "      <td>3.000000</td>\n",
              "      <td>1.000000</td>\n",
              "      <td>0.000000</td>\n",
              "      <td>4.664082</td>\n",
              "      <td>7.000000</td>\n",
              "      <td>-1.000000</td>\n",
              "      <td>660.000000</td>\n",
              "      <td>235.500000</td>\n",
              "      <td>1400.000000</td>\n",
              "      <td>843300.000000</td>\n",
              "      <td>244572.222223</td>\n",
              "      <td>1023.635611</td>\n",
              "      <td>4355.688836</td>\n",
              "      <td>2870.074878</td>\n",
              "      <td>1200.000000</td>\n",
              "      <td>2800.000000</td>\n",
              "      <td>2200.000000</td>\n",
              "      <td>0.033387</td>\n",
              "      <td>0.033345</td>\n",
              "      <td>0.040004</td>\n",
              "      <td>0.040001</td>\n",
              "      <td>0.040727</td>\n",
              "      <td>0.453457</td>\n",
              "      <td>0.119117</td>\n",
              "      <td>0.039023</td>\n",
              "      <td>0.015337</td>\n",
              "      <td>0.710526</td>\n",
              "      <td>0.280000</td>\n",
              "      <td>0.358755</td>\n",
              "      <td>0.100000</td>\n",
              "      <td>0.800000</td>\n",
              "      <td>-0.253333</td>\n",
              "      <td>-0.500000</td>\n",
              "      <td>-0.100000</td>\n",
              "      <td>0.150000</td>\n",
              "      <td>0.000000</td>\n",
              "      <td>0.500000</td>\n",
              "      <td>0.000000</td>\n",
              "      <td>1400.000000</td>\n",
              "    </tr>\n",
              "    <tr>\n",
              "      <th>75%</th>\n",
              "      <td>542.000000</td>\n",
              "      <td>12.000000</td>\n",
              "      <td>716.000000</td>\n",
              "      <td>0.608696</td>\n",
              "      <td>1.000000</td>\n",
              "      <td>0.754630</td>\n",
              "      <td>14.000000</td>\n",
              "      <td>4.000000</td>\n",
              "      <td>4.000000</td>\n",
              "      <td>1.000000</td>\n",
              "      <td>4.854839</td>\n",
              "      <td>9.000000</td>\n",
              "      <td>4.000000</td>\n",
              "      <td>1000.000000</td>\n",
              "      <td>357.000000</td>\n",
              "      <td>7900.000000</td>\n",
              "      <td>843300.000000</td>\n",
              "      <td>330980.000000</td>\n",
              "      <td>2056.781032</td>\n",
              "      <td>6019.953968</td>\n",
              "      <td>3600.229564</td>\n",
              "      <td>2600.000000</td>\n",
              "      <td>8000.000000</td>\n",
              "      <td>5200.000000</td>\n",
              "      <td>0.240958</td>\n",
              "      <td>0.150831</td>\n",
              "      <td>0.334218</td>\n",
              "      <td>0.375763</td>\n",
              "      <td>0.399986</td>\n",
              "      <td>0.508333</td>\n",
              "      <td>0.177832</td>\n",
              "      <td>0.050279</td>\n",
              "      <td>0.021739</td>\n",
              "      <td>0.800000</td>\n",
              "      <td>0.384615</td>\n",
              "      <td>0.411428</td>\n",
              "      <td>0.100000</td>\n",
              "      <td>1.000000</td>\n",
              "      <td>-0.186905</td>\n",
              "      <td>-0.300000</td>\n",
              "      <td>-0.050000</td>\n",
              "      <td>0.500000</td>\n",
              "      <td>0.150000</td>\n",
              "      <td>0.500000</td>\n",
              "      <td>0.250000</td>\n",
              "      <td>2800.000000</td>\n",
              "    </tr>\n",
              "    <tr>\n",
              "      <th>max</th>\n",
              "      <td>731.000000</td>\n",
              "      <td>23.000000</td>\n",
              "      <td>8474.000000</td>\n",
              "      <td>701.000000</td>\n",
              "      <td>1042.000000</td>\n",
              "      <td>650.000000</td>\n",
              "      <td>304.000000</td>\n",
              "      <td>116.000000</td>\n",
              "      <td>128.000000</td>\n",
              "      <td>91.000000</td>\n",
              "      <td>8.041534</td>\n",
              "      <td>10.000000</td>\n",
              "      <td>377.000000</td>\n",
              "      <td>298400.000000</td>\n",
              "      <td>42827.857143</td>\n",
              "      <td>843300.000000</td>\n",
              "      <td>843300.000000</td>\n",
              "      <td>843300.000000</td>\n",
              "      <td>3613.039820</td>\n",
              "      <td>298400.000000</td>\n",
              "      <td>43567.659946</td>\n",
              "      <td>843300.000000</td>\n",
              "      <td>843300.000000</td>\n",
              "      <td>843300.000000</td>\n",
              "      <td>0.926994</td>\n",
              "      <td>0.925947</td>\n",
              "      <td>0.919999</td>\n",
              "      <td>0.926534</td>\n",
              "      <td>0.927191</td>\n",
              "      <td>1.000000</td>\n",
              "      <td>0.727841</td>\n",
              "      <td>0.155488</td>\n",
              "      <td>0.184932</td>\n",
              "      <td>1.000000</td>\n",
              "      <td>1.000000</td>\n",
              "      <td>1.000000</td>\n",
              "      <td>1.000000</td>\n",
              "      <td>1.000000</td>\n",
              "      <td>0.000000</td>\n",
              "      <td>0.000000</td>\n",
              "      <td>0.000000</td>\n",
              "      <td>1.000000</td>\n",
              "      <td>1.000000</td>\n",
              "      <td>0.500000</td>\n",
              "      <td>1.000000</td>\n",
              "      <td>843300.000000</td>\n",
              "    </tr>\n",
              "  </tbody>\n",
              "</table>\n",
              "</div>\n",
              "      <button class=\"colab-df-convert\" onclick=\"convertToInteractive('df-e24cc9a0-9da5-401e-9635-a9b491730e48')\"\n",
              "              title=\"Convert this dataframe to an interactive table.\"\n",
              "              style=\"display:none;\">\n",
              "        \n",
              "  <svg xmlns=\"http://www.w3.org/2000/svg\" height=\"24px\"viewBox=\"0 0 24 24\"\n",
              "       width=\"24px\">\n",
              "    <path d=\"M0 0h24v24H0V0z\" fill=\"none\"/>\n",
              "    <path d=\"M18.56 5.44l.94 2.06.94-2.06 2.06-.94-2.06-.94-.94-2.06-.94 2.06-2.06.94zm-11 1L8.5 8.5l.94-2.06 2.06-.94-2.06-.94L8.5 2.5l-.94 2.06-2.06.94zm10 10l.94 2.06.94-2.06 2.06-.94-2.06-.94-.94-2.06-.94 2.06-2.06.94z\"/><path d=\"M17.41 7.96l-1.37-1.37c-.4-.4-.92-.59-1.43-.59-.52 0-1.04.2-1.43.59L10.3 9.45l-7.72 7.72c-.78.78-.78 2.05 0 2.83L4 21.41c.39.39.9.59 1.41.59.51 0 1.02-.2 1.41-.59l7.78-7.78 2.81-2.81c.8-.78.8-2.07 0-2.86zM5.41 20L4 18.59l7.72-7.72 1.47 1.35L5.41 20z\"/>\n",
              "  </svg>\n",
              "      </button>\n",
              "      \n",
              "  <style>\n",
              "    .colab-df-container {\n",
              "      display:flex;\n",
              "      flex-wrap:wrap;\n",
              "      gap: 12px;\n",
              "    }\n",
              "\n",
              "    .colab-df-convert {\n",
              "      background-color: #E8F0FE;\n",
              "      border: none;\n",
              "      border-radius: 50%;\n",
              "      cursor: pointer;\n",
              "      display: none;\n",
              "      fill: #1967D2;\n",
              "      height: 32px;\n",
              "      padding: 0 0 0 0;\n",
              "      width: 32px;\n",
              "    }\n",
              "\n",
              "    .colab-df-convert:hover {\n",
              "      background-color: #E2EBFA;\n",
              "      box-shadow: 0px 1px 2px rgba(60, 64, 67, 0.3), 0px 1px 3px 1px rgba(60, 64, 67, 0.15);\n",
              "      fill: #174EA6;\n",
              "    }\n",
              "\n",
              "    [theme=dark] .colab-df-convert {\n",
              "      background-color: #3B4455;\n",
              "      fill: #D2E3FC;\n",
              "    }\n",
              "\n",
              "    [theme=dark] .colab-df-convert:hover {\n",
              "      background-color: #434B5C;\n",
              "      box-shadow: 0px 1px 3px 1px rgba(0, 0, 0, 0.15);\n",
              "      filter: drop-shadow(0px 1px 2px rgba(0, 0, 0, 0.3));\n",
              "      fill: #FFFFFF;\n",
              "    }\n",
              "  </style>\n",
              "\n",
              "      <script>\n",
              "        const buttonEl =\n",
              "          document.querySelector('#df-e24cc9a0-9da5-401e-9635-a9b491730e48 button.colab-df-convert');\n",
              "        buttonEl.style.display =\n",
              "          google.colab.kernel.accessAllowed ? 'block' : 'none';\n",
              "\n",
              "        async function convertToInteractive(key) {\n",
              "          const element = document.querySelector('#df-e24cc9a0-9da5-401e-9635-a9b491730e48');\n",
              "          const dataTable =\n",
              "            await google.colab.kernel.invokeFunction('convertToInteractive',\n",
              "                                                     [key], {});\n",
              "          if (!dataTable) return;\n",
              "\n",
              "          const docLinkHtml = 'Like what you see? Visit the ' +\n",
              "            '<a target=\"_blank\" href=https://colab.research.google.com/notebooks/data_table.ipynb>data table notebook</a>'\n",
              "            + ' to learn more about interactive tables.';\n",
              "          element.innerHTML = '';\n",
              "          dataTable['output_type'] = 'display_data';\n",
              "          await google.colab.output.renderOutput(dataTable, element);\n",
              "          const docLink = document.createElement('div');\n",
              "          docLink.innerHTML = docLinkHtml;\n",
              "          element.appendChild(docLink);\n",
              "        }\n",
              "      </script>\n",
              "    </div>\n",
              "  </div>\n",
              "  "
            ],
            "text/plain": [
              "          timedelta  ...         shares\n",
              "count  39644.000000  ...   39644.000000\n",
              "mean     354.530471  ...    3395.380184\n",
              "std      214.163767  ...   11626.950749\n",
              "min        8.000000  ...       1.000000\n",
              "25%      164.000000  ...     946.000000\n",
              "50%      339.000000  ...    1400.000000\n",
              "75%      542.000000  ...    2800.000000\n",
              "max      731.000000  ...  843300.000000\n",
              "\n",
              "[8 rows x 46 columns]"
            ]
          },
          "metadata": {},
          "execution_count": 9
        }
      ]
    },
    {
      "cell_type": "markdown",
      "source": [
        "Agora vamos normalizar os dados afim de poder trabalhar melhor com eles."
      ],
      "metadata": {
        "id": "xU2Zi5_RMp6c"
      }
    },
    {
      "cell_type": "code",
      "source": [
        "from sklearn.preprocessing import StandardScaler"
      ],
      "metadata": {
        "id": "NiRApJcsMv4S"
      },
      "execution_count": 10,
      "outputs": []
    },
    {
      "cell_type": "code",
      "source": [
        "scaler = StandardScaler()\n",
        "\n",
        "scaler.fit(df.loc[:,num_cols])\n",
        "\n",
        "vars_num = scaler.transform(df.loc[:,num_cols])"
      ],
      "metadata": {
        "id": "h5-IKxlmOdwa"
      },
      "execution_count": 11,
      "outputs": []
    },
    {
      "cell_type": "markdown",
      "source": [
        "É possível observar que existem 45 variáveis numéricas que podemos utilizar. Mas, aplicando um técnica de redimensionamento, podemos trabalhar com menos variáveis."
      ],
      "metadata": {
        "id": "iE-3hJjWW0aa"
      }
    },
    {
      "cell_type": "code",
      "source": [
        "vars_num.shape"
      ],
      "metadata": {
        "colab": {
          "base_uri": "https://localhost:8080/"
        },
        "id": "79Eg6hs0WnZ6",
        "outputId": "508a454a-f86f-47c9-9d10-586b4f42589e"
      },
      "execution_count": 12,
      "outputs": [
        {
          "output_type": "execute_result",
          "data": {
            "text/plain": [
              "(39644, 45)"
            ]
          },
          "metadata": {},
          "execution_count": 12
        }
      ]
    },
    {
      "cell_type": "markdown",
      "source": [
        "A técnica na qual vamos usar se chama: PCA\n"
      ],
      "metadata": {
        "id": "NS1DFWDDAq7V"
      }
    },
    {
      "cell_type": "code",
      "source": [
        "from sklearn.decomposition import PCA"
      ],
      "metadata": {
        "id": "bN-e7h1aA_Ie"
      },
      "execution_count": 13,
      "outputs": []
    },
    {
      "cell_type": "code",
      "source": [
        "model = PCA()\n",
        "\n",
        "pca_features = model.fit_transform(vars_num)\n",
        "print(pca_features)"
      ],
      "metadata": {
        "colab": {
          "base_uri": "https://localhost:8080/"
        },
        "id": "QApVFHumBCbd",
        "outputId": "c2cb6c38-0a71-4e62-8bdb-5c4d901ec5fd"
      },
      "execution_count": 14,
      "outputs": [
        {
          "output_type": "stream",
          "name": "stdout",
          "text": [
            "[[-1.35141948e+00 -2.72261087e+00 -2.01994067e+00 ...  1.29527777e-02\n",
            "   6.57929580e-04 -2.06479685e-06]\n",
            " [ 3.40117260e-01 -4.39590129e+00 -1.54327613e+00 ...  1.34097388e-02\n",
            "  -7.11848058e-03 -4.91811296e-06]\n",
            " [-3.70176051e+00 -3.73732899e+00 -1.56957498e+00 ... -1.29439372e-02\n",
            "   1.51564808e-02  2.47360849e-06]\n",
            " ...\n",
            " [ 3.45112766e-01  2.71025411e+00 -3.25974036e-01 ... -6.49170054e-03\n",
            "  -9.17617078e-03 -4.10776779e-06]\n",
            " [ 2.89849393e+00  3.07709284e-01 -2.96634997e+00 ...  5.43851905e-03\n",
            "   3.80489325e-03 -5.96411630e-07]\n",
            " [ 1.00846004e+00  2.82599920e-01  1.99773883e+00 ...  1.33277479e-02\n",
            "   7.55562157e-05  5.76950894e-07]]\n"
          ]
        }
      ]
    },
    {
      "cell_type": "code",
      "source": [
        "features = range(model.n_components_)\n",
        "plt.bar(features, model.explained_variance_ratio_)\n",
        "plt.xlabel('PCA feature')\n",
        "plt.ylabel('Proporção de cada variância')\n",
        "plt.xticks(features)\n",
        "plt.show()"
      ],
      "metadata": {
        "colab": {
          "base_uri": "https://localhost:8080/",
          "height": 279
        },
        "id": "tnLq4BPGDDOe",
        "outputId": "6a87307a-a458-4bf0-dd97-3b6e16756e87"
      },
      "execution_count": 15,
      "outputs": [
        {
          "output_type": "display_data",
          "data": {
            "image/png": "[encoded data removed]",
            "text/plain": [
              "<Figure size 432x288 with 1 Axes>"
            ]
          },
          "metadata": {
            "needs_background": "light"
          }
        }
      ]
    },
    {
      "cell_type": "markdown",
      "source": [
        "A figura acima mostra o quanto a variância de cada variável representa no todo.\n",
        "E, aplicando um nível de significância específico, podemos definir o número de variáveis."
      ],
      "metadata": {
        "id": "ilOr902Z-e3t"
      }
    },
    {
      "cell_type": "code",
      "source": [
        "variancia_raio = model.explained_variance_ratio_\n",
        "\n",
        "total_vars = len(variancia_raio)\n",
        "nivel_signif = 1 - 0.01\n",
        "\n",
        "reduc_vars = list(filter(lambda x: sum(variancia_raio[0:x]) > nivel_signif, range(total_vars)))\n",
        "total_reduc_vars = total_vars - len(reduc_vars)\n",
        "print(f\"Total de variáveis:\\n{total_vars}.\\nTotal de variáveis depois de aplicar um nível de significância de {round(1-nivel_signif,2)}:\\n{total_reduc_vars}.\")\n"
      ],
      "metadata": {
        "colab": {
          "base_uri": "https://localhost:8080/"
        },
        "id": "Y6v-pg4TEJj2",
        "outputId": "d12dc925-976f-4a73-b71c-87f7905f2f33"
      },
      "execution_count": 16,
      "outputs": [
        {
          "output_type": "stream",
          "name": "stdout",
          "text": [
            "Total de variáveis:\n",
            "45.\n",
            "Total de variáveis depois de aplicar um nível de significância de 0.01:\n",
            "35.\n"
          ]
        }
      ]
    },
    {
      "cell_type": "markdown",
      "source": [
        "Ou seja, basicamente consigo explicar 99% dos meus dados usando 35 das 45 variáveis numéricas.\n"
      ],
      "metadata": {
        "id": "cr91jcuQGUcW"
      }
    },
    {
      "cell_type": "markdown",
      "source": [
        "## Predição"
      ],
      "metadata": {
        "id": "cBry0HY82rUD"
      }
    },
    {
      "cell_type": "markdown",
      "source": [
        "Para fazermos a predição de quantas visualizações o artigo terá, vamos utilizar as variáveis redimensionadas e a técnica de regressão linear. Para isso vamos importar a função e dividir os dados para treino e teste."
      ],
      "metadata": {
        "id": "Gk1_lHIn2tq8"
      }
    },
    {
      "cell_type": "code",
      "source": [
        "from sklearn.linear_model import LinearRegression\n",
        "from sklearn.model_selection import train_test_split"
      ],
      "metadata": {
        "id": "SX0pRIkN2qqc"
      },
      "execution_count": 17,
      "outputs": []
    },
    {
      "cell_type": "code",
      "source": [
        "#vamos usar uma quantidade de variáveis que represente 99% das variáveis numéricas\n",
        "pca = PCA()\n",
        "\n",
        "X = pca.fit_transform(vars_num)\n",
        "y = df['shares']"
      ],
      "metadata": {
        "id": "z89saFPi3bQb"
      },
      "execution_count": 18,
      "outputs": []
    },
    {
      "cell_type": "code",
      "source": [
        "X_train, X_test, y_train, y_test = train_test_split(X, y, test_size=0.3, random_state=42)"
      ],
      "metadata": {
        "id": "IJ11bI3T3KzD"
      },
      "execution_count": 19,
      "outputs": []
    },
    {
      "cell_type": "code",
      "source": [
        "reg = LinearRegression()\n",
        "reg.fit(X_train, y_train)\n",
        "\n",
        "y_pred = reg.predict(X_test)"
      ],
      "metadata": {
        "id": "91WsdOm03-5U"
      },
      "execution_count": 20,
      "outputs": []
    },
    {
      "cell_type": "markdown",
      "source": [
        "Para verificar se os dados predizidos se assemelham aos reais podemos utilizar uma técnica que mensure o quanto se diferem os dados, para isso vamos utilizar o erro quadrático médio e o indicador R^2\n"
      ],
      "metadata": {
        "id": "pPmrTXA94xCk"
      }
    },
    {
      "cell_type": "code",
      "source": [
        "from sklearn.metrics import mean_squared_error"
      ],
      "metadata": {
        "id": "DrJ4zNaX5o_c"
      },
      "execution_count": 21,
      "outputs": []
    },
    {
      "cell_type": "code",
      "source": [
        "# Compute and print R^2 and RMSE\n",
        "print(\"R^2: {}\".format(reg.score(X_test, y_test)))\n",
        "\n",
        "rmse = np.sqrt(mean_squared_error(y_test, y_pred))\n",
        "print(\"Raiz do erro quadrático médio: {}\".format(rmse))"
      ],
      "metadata": {
        "colab": {
          "base_uri": "https://localhost:8080/"
        },
        "id": "eSZNnMQ75uak",
        "outputId": "5ce9e8da-6d06-4dea-d7a6-408000bf53e1"
      },
      "execution_count": 22,
      "outputs": [
        {
          "output_type": "stream",
          "name": "stdout",
          "text": [
            "R^2: 0.018968551426918334\n",
            "Raiz do erro quadrático médio: 12999.598129364338\n"
          ]
        }
      ]
    },
    {
      "cell_type": "markdown",
      "source": [
        "Observando o resultado acima é possível perceber que as variáveis númericas redimensionadas e utilizando um modelo de regressão linear simples não explicam muito bem o número de compartilhamentos dos artigos."
      ],
      "metadata": {
        "id": "UKv7wcupAHl3"
      }
    },
    {
      "cell_type": "markdown",
      "source": [
        "# 2º Análise"
      ],
      "metadata": {
        "id": "gKjK_WbZAk_N"
      }
    },
    {
      "cell_type": "markdown",
      "source": [
        "Vamos agora trabalha no outro banco, utilizando nele técnicas de tratamento de texto e Regressão Logística"
      ],
      "metadata": {
        "id": "HWKjt2tLWeKp"
      }
    },
    {
      "cell_type": "markdown",
      "source": [
        "O objetivo aqui é verificar se um link de site é spam ou não.\n",
        "\n",
        "Para isso precisamos tratar os dados de url. E para mexermos nisso vamos importar um pacote que trata de expressões regulares.\n"
      ],
      "metadata": {
        "id": "BCx1k-7qW3cQ"
      }
    },
    {
      "cell_type": "code",
      "source": [
        "df1 = pd.read_csv('gdrive/My Drive/iee/2º Período/url_spam_classification.csv')"
      ],
      "metadata": {
        "id": "Svs06FhUpf38"
      },
      "execution_count": 23,
      "outputs": []
    },
    {
      "cell_type": "markdown",
      "source": [
        "Meu objetivo inicial era usar a técnica OneHot Encoding para utilizar nas previsões, mas encontrei algumas dificuldades de aplicar ela e por isso utilizo essas duas técnicas abaixo."
      ],
      "metadata": {
        "id": "cCOtxMVZA07O"
      }
    },
    {
      "cell_type": "code",
      "source": [
        "from sklearn.feature_extraction.text import CountVectorizer\n",
        "count_vect = CountVectorizer()\n",
        "X = count_vect.fit_transform(df1.is_spam.apply(str))"
      ],
      "metadata": {
        "id": "nZM0WmMvvxwU"
      },
      "execution_count": 24,
      "outputs": []
    },
    {
      "cell_type": "code",
      "source": [
        "from sklearn.feature_extraction.text import TfidfTransformer\n",
        "tfidf_transformer = TfidfTransformer()\n",
        "X_train_tfidf = tfidf_transformer.fit_transform(X)"
      ],
      "metadata": {
        "id": "g8BFasu3L05Z"
      },
      "execution_count": 25,
      "outputs": []
    },
    {
      "cell_type": "code",
      "source": [
        "y = df1['is_spam']*1"
      ],
      "metadata": {
        "id": "yfiAo3HZaRKg"
      },
      "execution_count": 26,
      "outputs": []
    },
    {
      "cell_type": "markdown",
      "source": [
        "Eu percebi que poucos dados explicam muito sobre a variável que queremos prever, por isso coloquei um valor muito alto no banco de teste."
      ],
      "metadata": {
        "id": "KacL0-R4BRme"
      }
    },
    {
      "cell_type": "code",
      "source": [
        "X_train, X_test, y_train, y_test = train_test_split(X, y, test_size=.9)"
      ],
      "metadata": {
        "id": "EJSXenTpufHs"
      },
      "execution_count": 27,
      "outputs": []
    },
    {
      "cell_type": "code",
      "source": [
        " from sklearn.linear_model import LogisticRegression\n",
        " from sklearn.metrics import accuracy_score"
      ],
      "metadata": {
        "id": "WzgCgHb8Z-OY"
      },
      "execution_count": 28,
      "outputs": []
    },
    {
      "cell_type": "code",
      "source": [
        "clf = LogisticRegression(random_state=0)\n",
        "clf.fit(X_train, y_train)"
      ],
      "metadata": {
        "id": "ZkB0XNGDaFXx",
        "colab": {
          "base_uri": "https://localhost:8080/"
        },
        "outputId": "b0973680-07fc-4958-c2af-56b08268f8fc"
      },
      "execution_count": 29,
      "outputs": [
        {
          "output_type": "execute_result",
          "data": {
            "text/plain": [
              "LogisticRegression(random_state=0)"
            ]
          },
          "metadata": {},
          "execution_count": 29
        }
      ]
    },
    {
      "cell_type": "code",
      "source": [
        "y_pred = clf.predict(X_test)\n",
        "accuracy_score(y_test, y_pred)"
      ],
      "metadata": {
        "colab": {
          "base_uri": "https://localhost:8080/"
        },
        "id": "BAirl3ngFdOH",
        "outputId": "ebe25a1c-3cf7-4e2e-c466-6f6af9f8a8d1"
      },
      "execution_count": 30,
      "outputs": [
        {
          "output_type": "execute_result",
          "data": {
            "text/plain": [
              "1.0"
            ]
          },
          "metadata": {},
          "execution_count": 30
        }
      ]
    },
    {
      "cell_type": "code",
      "source": [
        "from sklearn.metrics import confusion_matrix\n",
        "from sklearn.metrics import plot_confusion_matrix"
      ],
      "metadata": {
        "id": "3A4R1tV8GMDH"
      },
      "execution_count": 31,
      "outputs": []
    },
    {
      "cell_type": "code",
      "source": [
        "plot_confusion_matrix(clf, X_test, y_test)"
      ],
      "metadata": {
        "colab": {
          "base_uri": "https://localhost:8080/",
          "height": 351
        },
        "id": "Y7TEQm9KGUfm",
        "outputId": "2fd37926-614c-4876-c418-0f958d6e3da3"
      },
      "execution_count": 32,
      "outputs": [
        {
          "output_type": "stream",
          "name": "stderr",
          "text": [
            "/usr/local/lib/python3.7/dist-packages/sklearn/utils/deprecation.py:87: FutureWarning: Function plot_confusion_matrix is deprecated; Function `plot_confusion_matrix` is deprecated in 1.0 and will be removed in 1.2. Use one of the class methods: ConfusionMatrixDisplay.from_predictions or ConfusionMatrixDisplay.from_estimator.\n",
            "  warnings.warn(msg, category=FutureWarning)\n"
          ]
        },
        {
          "output_type": "execute_result",
          "data": {
            "text/plain": [
              "<sklearn.metrics._plot.confusion_matrix.ConfusionMatrixDisplay at 0x7f3776e68e90>"
            ]
          },
          "metadata": {},
          "execution_count": 32
        },
        {
          "output_type": "display_data",
          "data": {
            "image/png": "[encoded data removed]",
            "text/plain": [
              "<Figure size 432x288 with 2 Axes>"
            ]
          },
          "metadata": {
            "needs_background": "light"
          }
        }
      ]
    },
    {
      "cell_type": "code",
      "source": [
        "def cont_unique(vetor):\n",
        "  dic = {}\n",
        "\n",
        "  for value in vetor:\n",
        "    if str(value) not in list(dic.keys()):\n",
        "      dic[str(value)] = 1\n",
        "\n",
        "    else: \n",
        "      dic[str(value)] += 1\n",
        "\n",
        "\n",
        "  return dic"
      ],
      "metadata": {
        "id": "9Zk9qtdKGx8n"
      },
      "execution_count": 33,
      "outputs": []
    },
    {
      "cell_type": "code",
      "source": [
        "cont_unique(y_test)"
      ],
      "metadata": {
        "colab": {
          "base_uri": "https://localhost:8080/"
        },
        "id": "TvZK8HlDG1TF",
        "outputId": "e29ea8b9-8413-4052-e76a-21083e0b3e2e"
      },
      "execution_count": 34,
      "outputs": [
        {
          "output_type": "execute_result",
          "data": {
            "text/plain": [
              "{'0': 90956, '1': 42517}"
            ]
          },
          "metadata": {},
          "execution_count": 34
        }
      ]
    },
    {
      "cell_type": "code",
      "source": [
        "cont_unique(y_pred)"
      ],
      "metadata": {
        "colab": {
          "base_uri": "https://localhost:8080/"
        },
        "id": "ZgsrHfQsMzjP",
        "outputId": "df50b732-e0a7-4c2e-9e1a-d4304dc531dc"
      },
      "execution_count": 35,
      "outputs": [
        {
          "output_type": "execute_result",
          "data": {
            "text/plain": [
              "{'0': 90956, '1': 42517}"
            ]
          },
          "metadata": {},
          "execution_count": 35
        }
      ]
    }
  ]
}