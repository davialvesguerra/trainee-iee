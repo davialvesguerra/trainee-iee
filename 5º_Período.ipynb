{
  "nbformat": 4,
  "nbformat_minor": 0,
  "metadata": {
    "colab": {
      "name": "5º Período",
      "provenance": [],
      "collapsed_sections": [],
      "authorship_tag": "ABX9TyOBqnCe5MgIKvzZ/CjuG5o6",
      "include_colab_link": true
    },
    "kernelspec": {
      "name": "python3",
      "display_name": "Python 3"
    },
    "language_info": {
      "name": "python"
    }
  },
  "cells": [
    {
      "cell_type": "markdown",
      "metadata": {
        "id": "view-in-github",
        "colab_type": "text"
      },
      "source": [
        "<a href=\"https://colab.research.google.com/github/davialvesguerra/trainee-iee/blob/main/5%C2%BA_Per%C3%ADodo.ipynb\" target=\"_parent\"><img src=\"https://colab.research.google.com/assets/colab-badge.svg\" alt=\"Open In Colab\"/></a>"
      ]
    },
    {
      "cell_type": "code",
      "execution_count": 1,
      "metadata": {
        "colab": {
          "base_uri": "https://localhost:8080/"
        },
        "id": "XdDxPt-ypldL",
        "outputId": "8ba93b97-750d-4bb4-ed8f-9f562310543e"
      },
      "outputs": [
        {
          "output_type": "stream",
          "name": "stdout",
          "text": [
            "Drive already mounted at /content/gdrive; to attempt to forcibly remount, call drive.mount(\"/content/gdrive\", force_remount=True).\n"
          ]
        }
      ],
      "source": [
        "import pandas as pd\n",
        "from google.colab import drive\n",
        "import matplotlib.pyplot as plt\n",
        "import numpy as np\n",
        "import seaborn as sns\n",
        "import time\n",
        "import os\n",
        "\n",
        "drive.mount('/content/gdrive')"
      ]
    },
    {
      "cell_type": "code",
      "source": [
        "import tensorflow as tf\n",
        "from tensorflow.keras.preprocessing.image import ImageDataGenerator"
      ],
      "metadata": {
        "id": "b0ntPFKcdiZK"
      },
      "execution_count": 2,
      "outputs": []
    },
    {
      "cell_type": "code",
      "source": [
        "path_ = 'gdrive/My Drive/iee/5º Período/'\n",
        "os.chdir(path_)\n",
        "os.getcwd()"
      ],
      "metadata": {
        "colab": {
          "base_uri": "https://localhost:8080/",
          "height": 35
        },
        "id": "QBVNiVVvY2M7",
        "outputId": "46639295-d79a-4cfb-c463-da99a488fd66"
      },
      "execution_count": 3,
      "outputs": [
        {
          "output_type": "execute_result",
          "data": {
            "application/vnd.google.colaboratory.intrinsic+json": {
              "type": "string"
            },
            "text/plain": [
              "'/content/gdrive/My Drive/iee/5º Período'"
            ]
          },
          "metadata": {},
          "execution_count": 3
        }
      ]
    },
    {
      "cell_type": "code",
      "source": [
        "if os.path.exists('animals/train') == False:\n",
        "  os.mkdir('animals/train')\n",
        "\n",
        "\n",
        "if os.path.exists('animals/test') == False:\n",
        "  os.mkdir('animals/test')"
      ],
      "metadata": {
        "id": "GJOUUU_2YtLO"
      },
      "execution_count": null,
      "outputs": []
    },
    {
      "cell_type": "code",
      "source": [
        "cats = os.listdir('animals/cats')\n",
        "cats_src = ['cats/'+x for x in cats]\n",
        "\n",
        "dogs = os.listdir('animals/dogs')\n",
        "dogs_src = ['dogs/'+x for x in dogs]\n",
        "\n",
        "panda = os.listdir('animals/panda')\n",
        "panda_src = ['panda/'+x for x in panda]"
      ],
      "metadata": {
        "id": "lwu3G8qkdgkB"
      },
      "execution_count": null,
      "outputs": []
    },
    {
      "cell_type": "code",
      "source": [
        "train = []\n",
        "test = []\n",
        "\n",
        "N = 1000\n",
        "size = 0.7\n",
        "\n",
        "\n",
        "train_src = cats_src[0:int(N*size)]\n",
        "train_src += dogs_src[0:int(N*size)]\n",
        "train_src += panda_src[0:int(N*size)]\n",
        "\n",
        "test_src = cats_src[int(N*size):]\n",
        "test_src += dogs_src[int(N*size):]\n",
        "test_src += panda_src[int(N*size):]\n",
        "\n",
        "# train = cats[0:int(N*size)]\n",
        "# train += dogs[0:int(N*size)]\n",
        "# train += panda[0:int(N*size)]\n",
        "\n",
        "# test = cats[int(N*size):]\n",
        "# test += dogs[int(N*size):]\n",
        "# test += panda[int(N*size):]\n"
      ],
      "metadata": {
        "id": "GA_GRFASeRUq"
      },
      "execution_count": null,
      "outputs": []
    },
    {
      "cell_type": "code",
      "source": [
        "if os.path.exists('animals/train/panda') == False:\n",
        "  os.mkdir('animals/train/panda')\n",
        "  os.mkdir('animals/test/panda')\n",
        "\n",
        "if os.path.exists('animals/train/dogs') == False:\n",
        "  os.mkdir('animals/train/dogs')\n",
        "  os.mkdir('animals/test/dogs')\n",
        "\n",
        "if os.path.exists('animals/train/cats') == False:\n",
        "  os.mkdir('animals/train/cats')\n",
        "  os.mkdir('animals/test/cats')\n"
      ],
      "metadata": {
        "id": "8LROXLILe0c3"
      },
      "execution_count": null,
      "outputs": []
    },
    {
      "cell_type": "code",
      "source": [
        "# import shutil\n",
        "\n",
        "# for value in train_src:\n",
        "\n",
        "#   dst = 'animals/train/'+value\n",
        "#   src = 'animals/'+value\n",
        "  \n",
        "#   shutil.copyfile(src, dst)\n"
      ],
      "metadata": {
        "id": "FAxCrPuMhpwv"
      },
      "execution_count": null,
      "outputs": []
    },
    {
      "cell_type": "code",
      "source": [
        "# for value in test_src:\n",
        "\n",
        "#   dst = 'animals/test/'+value\n",
        "#   src = 'animals/'+value\n",
        "  \n",
        "#   shutil.copyfile(src, dst)\n"
      ],
      "metadata": {
        "id": "PUVu0quHy4xt"
      },
      "execution_count": null,
      "outputs": []
    },
    {
      "cell_type": "code",
      "source": [
        "train_datagen = ImageDataGenerator(\n",
        "        rescale=1./255,\n",
        "        shear_range=0.2,\n",
        "        zoom_range=0.2,\n",
        "        horizontal_flip=True)\n",
        "\n",
        "\n",
        "test_datagen = ImageDataGenerator(rescale=1./255)"
      ],
      "metadata": {
        "id": "bhty9bKETbHt"
      },
      "execution_count": null,
      "outputs": []
    },
    {
      "cell_type": "code",
      "source": [
        "train_generator = train_datagen.flow_from_directory(\n",
        "        'animals/train',\n",
        "        target_size=(150, 150),\n",
        "        batch_size=32\n",
        "        )\n",
        "\n",
        "train_generator"
      ],
      "metadata": {
        "colab": {
          "base_uri": "https://localhost:8080/"
        },
        "id": "qp2wc7Zo4kdu",
        "outputId": "75903d99-70d4-411c-d104-8d58b8789e4e"
      },
      "execution_count": null,
      "outputs": [
        {
          "output_type": "stream",
          "name": "stdout",
          "text": [
            "Found 2100 images belonging to 3 classes.\n"
          ]
        },
        {
          "output_type": "execute_result",
          "data": {
            "text/plain": [
              "<keras.preprocessing.image.DirectoryIterator at 0x7fb3671bd5d0>"
            ]
          },
          "metadata": {},
          "execution_count": 9
        }
      ]
    },
    {
      "cell_type": "code",
      "source": [
        "from tensorflow.keras import layers, models"
      ],
      "metadata": {
        "id": "YMULDkFebqTH"
      },
      "execution_count": null,
      "outputs": []
    },
    {
      "cell_type": "code",
      "source": [
        "model = models.Sequential()\n",
        "\n",
        "model.add(layers.Conv2D(32, (3, 3), activation='relu',input_shape=(150, 150, 3)))\n",
        "model.add(layers.MaxPooling2D((2, 2)))\n",
        "model.add(layers.Conv2D(64, (3, 3), activation='relu'))\n",
        "model.add(layers.MaxPooling2D((2, 2)))\n",
        "model.add(layers.Conv2D(128, (3, 3), activation='relu'))\n",
        "model.add(layers.Flatten())\n",
        "model.add(layers.Dense(128, activation='relu'))\n",
        "model.add(layers.Dense(3, activation='softmax'))\n",
        "\n"
      ],
      "metadata": {
        "id": "o_yXXDOS7Qo8"
      },
      "execution_count": null,
      "outputs": []
    },
    {
      "cell_type": "code",
      "source": [
        "model.summary()"
      ],
      "metadata": {
        "id": "Hhm8zj1t7Qlf"
      },
      "execution_count": null,
      "outputs": []
    },
    {
      "cell_type": "code",
      "source": [
        "model.compile(optimizer='adam',\n",
        "              loss='mse',\n",
        "              metrics=['accuracy'])"
      ],
      "metadata": {
        "id": "Kt6saxXJ7Qi9"
      },
      "execution_count": null,
      "outputs": []
    },
    {
      "cell_type": "code",
      "source": [
        "model.fit(train_generator, epochs=10)"
      ],
      "metadata": {
        "id": "RgrSxIQ47QgQ"
      },
      "execution_count": null,
      "outputs": []
    },
    {
      "cell_type": "code",
      "source": [
        "base_model = tf.keras.applications.Xception(\n",
        "    weights='imagenet',  # Load weights pre-trained on ImageNet.\n",
        "    input_shape=(150, 150, 3),\n",
        "    include_top=False)"
      ],
      "metadata": {
        "colab": {
          "base_uri": "https://localhost:8080/"
        },
        "id": "lRQ10A1YFUOc",
        "outputId": "aa05b55d-d430-4152-afdd-4fa853038904"
      },
      "execution_count": null,
      "outputs": [
        {
          "output_type": "stream",
          "name": "stdout",
          "text": [
            "Downloading data from https://storage.googleapis.com/tensorflow/keras-applications/xception/xception_weights_tf_dim_ordering_tf_kernels_notop.h5\n",
            "83689472/83683744 [==============================] - 1s 0us/step\n",
            "83697664/83683744 [==============================] - 1s 0us/step\n"
          ]
        }
      ]
    },
    {
      "cell_type": "code",
      "source": [
        "base_model.trainable = False"
      ],
      "metadata": {
        "id": "3ObUsfjk7Qdm"
      },
      "execution_count": null,
      "outputs": []
    },
    {
      "cell_type": "code",
      "source": [
        "inputs = tf.keras.Input(shape=(150, 150, 3))\n",
        "# We make sure that the base_model is running in inference mode here,\n",
        "# by passing `training=False`. This is important for fine-tuning, as you will\n",
        "# learn in a few paragraphs.\n",
        "x = base_model(inputs, training=False)\n",
        "# Convert features of shape `base_model.output_shape[1:]` to vectors\n",
        "x = tf.keras.layers.GlobalAveragePooling2D()(x)\n",
        "# A Dense classifier with a single unit (binary classification)\n",
        "outputs = tf.keras.layers.Dense(3)(x)\n",
        "model = tf.keras.Model(inputs, outputs)"
      ],
      "metadata": {
        "id": "b1nwfOEz7Qa1"
      },
      "execution_count": null,
      "outputs": []
    },
    {
      "cell_type": "code",
      "source": [
        "model.compile(optimizer=tf.keras.optimizers.Adam(),\n",
        "              loss=tf.keras.losses.BinaryCrossentropy(from_logits=True),\n",
        "              metrics=[tf.keras.metrics.BinaryAccuracy()])"
      ],
      "metadata": {
        "id": "j-iqxpaO7QYP"
      },
      "execution_count": null,
      "outputs": []
    },
    {
      "cell_type": "code",
      "source": [
        "model.summary()"
      ],
      "metadata": {
        "id": "MozkLKnN7QVV",
        "colab": {
          "base_uri": "https://localhost:8080/"
        },
        "outputId": "071a69a2-9550-46cb-96cb-325419b24330"
      },
      "execution_count": null,
      "outputs": [
        {
          "output_type": "stream",
          "name": "stdout",
          "text": [
            "Model: \"model\"\n",
            "_________________________________________________________________\n",
            " Layer (type)                Output Shape              Param #   \n",
            "=================================================================\n",
            " input_2 (InputLayer)        [(None, 150, 150, 3)]     0         \n",
            "                                                                 \n",
            " xception (Functional)       (None, 5, 5, 2048)        20861480  \n",
            "                                                                 \n",
            " global_average_pooling2d (G  (None, 2048)             0         \n",
            " lobalAveragePooling2D)                                          \n",
            "                                                                 \n",
            " dense_2 (Dense)             (None, 3)                 6147      \n",
            "                                                                 \n",
            "=================================================================\n",
            "Total params: 20,867,627\n",
            "Trainable params: 6,147\n",
            "Non-trainable params: 20,861,480\n",
            "_________________________________________________________________\n"
          ]
        }
      ]
    },
    {
      "cell_type": "code",
      "source": [
        "model.fit(train_generator, epochs=4)"
      ],
      "metadata": {
        "id": "URrhxPEf7QRs",
        "colab": {
          "base_uri": "https://localhost:8080/"
        },
        "outputId": "1b201b2f-cf2b-49dd-81c1-409428abab67"
      },
      "execution_count": null,
      "outputs": [
        {
          "output_type": "stream",
          "name": "stdout",
          "text": [
            "Epoch 1/4\n",
            "66/66 [==============================] - 215s 3s/step - loss: 0.1917 - binary_accuracy: 0.9116\n",
            "Epoch 2/4\n",
            "66/66 [==============================] - 178s 3s/step - loss: 0.0843 - binary_accuracy: 0.9652\n",
            "Epoch 3/4\n",
            "66/66 [==============================] - 177s 3s/step - loss: 0.0689 - binary_accuracy: 0.9729\n",
            "Epoch 4/4\n",
            "66/66 [==============================] - 176s 3s/step - loss: 0.0619 - binary_accuracy: 0.9756\n"
          ]
        },
        {
          "output_type": "execute_result",
          "data": {
            "text/plain": [
              "<keras.callbacks.History at 0x7fb35cd50190>"
            ]
          },
          "metadata": {},
          "execution_count": 21
        }
      ]
    }
  ]
}