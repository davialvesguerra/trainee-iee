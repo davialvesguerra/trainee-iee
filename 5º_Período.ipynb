{
  "nbformat": 4,
  "nbformat_minor": 0,
  "metadata": {
    "colab": {
      "name": "5º Período",
      "provenance": [],
      "collapsed_sections": [],
      "authorship_tag": "ABX9TyOX1eQHu9KS98YR8Nz/+xyy",
      "include_colab_link": true
    },
    "kernelspec": {
      "name": "python3",
      "display_name": "Python 3"
    },
    "language_info": {
      "name": "python"
    }
  },
  "cells": [
    {
      "cell_type": "markdown",
      "metadata": {
        "id": "view-in-github",
        "colab_type": "text"
      },
      "source": [
        "<a href=\"https://colab.research.google.com/github/davialvesguerra/trainee-iee/blob/main/5%C2%BA_Per%C3%ADodo.ipynb\" target=\"_parent\"><img src=\"https://colab.research.google.com/assets/colab-badge.svg\" alt=\"Open In Colab\"/></a>"
      ]
    },
    {
      "cell_type": "code",
      "execution_count": 1,
      "metadata": {
        "colab": {
          "base_uri": "https://localhost:8080/"
        },
        "id": "XdDxPt-ypldL",
        "outputId": "8ba93b97-750d-4bb4-ed8f-9f562310543e"
      },
      "outputs": [
        {
          "output_type": "stream",
          "name": "stdout",
          "text": [
            "Drive already mounted at /content/gdrive; to attempt to forcibly remount, call drive.mount(\"/content/gdrive\", force_remount=True).\n"
          ]
        }
      ],
      "source": [
        "import pandas as pd\n",
        "from google.colab import drive\n",
        "import matplotlib.pyplot as plt\n",
        "import numpy as np\n",
        "import seaborn as sns\n",
        "import time\n",
        "import os\n",
        "\n",
        "drive.mount('/content/gdrive')"
      ]
    },
    {
      "cell_type": "code",
      "source": [
        "path_ = 'gdrive/My Drive/iee/5º Período/'\n",
        "os.chdir(path_)\n",
        "os.getcwd()"
      ],
      "metadata": {
        "colab": {
          "base_uri": "https://localhost:8080/",
          "height": 35
        },
        "id": "QBVNiVVvY2M7",
        "outputId": "46639295-d79a-4cfb-c463-da99a488fd66"
      },
      "execution_count": 3,
      "outputs": [
        {
          "output_type": "execute_result",
          "data": {
            "application/vnd.google.colaboratory.intrinsic+json": {
              "type": "string"
            },
            "text/plain": [
              "'/content/gdrive/My Drive/iee/5º Período'"
            ]
          },
          "metadata": {},
          "execution_count": 3
        }
      ]
    },
    {
      "cell_type": "markdown",
      "source": [
        "Criando as pastas de treinamento e de teste, caso não existam"
      ],
      "metadata": {
        "id": "GwE0DcXEf1bD"
      }
    },
    {
      "cell_type": "code",
      "source": [
        "if os.path.exists('animals/train') == False:\n",
        "  os.mkdir('animals/train')\n",
        "\n",
        "\n",
        "if os.path.exists('animals/test') == False:\n",
        "  os.mkdir('animals/test')"
      ],
      "metadata": {
        "id": "GJOUUU_2YtLO"
      },
      "execution_count": 4,
      "outputs": []
    },
    {
      "cell_type": "markdown",
      "source": [
        "Listando os arquivos relacionados a cada animal"
      ],
      "metadata": {
        "id": "zYaEa2CVf99Q"
      }
    },
    {
      "cell_type": "code",
      "source": [
        "cats = os.listdir('animals/cats')\n",
        "cats_src = ['cats/'+x for x in cats]\n",
        "\n",
        "dogs = os.listdir('animals/dogs')\n",
        "dogs_src = ['dogs/'+x for x in dogs]\n",
        "\n",
        "panda = os.listdir('animals/panda')\n",
        "panda_src = ['panda/'+x for x in panda]"
      ],
      "metadata": {
        "id": "lwu3G8qkdgkB"
      },
      "execution_count": 5,
      "outputs": []
    },
    {
      "cell_type": "markdown",
      "source": [
        "Separando os arquivos dos animais, entre treino e teste, e alocando o caminho nas respectivas listas de treino e teste"
      ],
      "metadata": {
        "id": "ZLX9uRFQgOIG"
      }
    },
    {
      "cell_type": "markdown",
      "source": [
        "Foi feita uma seleção não randômica, dividindo o diretório dos animais com as 70% primeiras fotos de cada tipo de animal para treino e o restante para teste."
      ],
      "metadata": {
        "id": "ZTB4Ux7cggfg"
      }
    },
    {
      "cell_type": "code",
      "source": [
        "N = 1000\n",
        "size = 0.7\n",
        "\n",
        "\n",
        "train_src = cats_src[0:int(N*size)]\n",
        "train_src += dogs_src[0:int(N*size)]\n",
        "train_src += panda_src[0:int(N*size)]\n",
        "\n",
        "test_src = cats_src[int(N*size):]\n",
        "test_src += dogs_src[int(N*size):]\n",
        "test_src += panda_src[int(N*size):]"
      ],
      "metadata": {
        "id": "GA_GRFASeRUq"
      },
      "execution_count": 6,
      "outputs": []
    },
    {
      "cell_type": "markdown",
      "source": [
        "A função do tensorflow: .flow_from_directory, consegue rotular cada imagem com base na pasta que a figura esteja. Com isso, caso as pastas para cada tipo de animal não tenham sido criadas, o código abaixo faz a criação das mesmas."
      ],
      "metadata": {
        "id": "AW6iJ7l0g8Et"
      }
    },
    {
      "cell_type": "code",
      "source": [
        "if os.path.exists('animals/train/panda') == False:\n",
        "  os.mkdir('animals/train/panda')\n",
        "  os.mkdir('animals/test/panda')\n",
        "\n",
        "if os.path.exists('animals/train/dogs') == False:\n",
        "  os.mkdir('animals/train/dogs')\n",
        "  os.mkdir('animals/test/dogs')\n",
        "\n",
        "if os.path.exists('animals/train/cats') == False:\n",
        "  os.mkdir('animals/train/cats')\n",
        "  os.mkdir('animals/test/cats')\n"
      ],
      "metadata": {
        "id": "8LROXLILe0c3"
      },
      "execution_count": 7,
      "outputs": []
    },
    {
      "cell_type": "markdown",
      "source": [
        "E por fim, e feito uma cópia das fotos dos animais nas pastas originais para a pasta de treino e teste, baseada nos processos de seleção anteriores"
      ],
      "metadata": {
        "id": "ZsNDHxwShdBh"
      }
    },
    {
      "cell_type": "code",
      "source": [
        "# import shutil\n",
        "\n",
        "# for value in train_src:\n",
        "\n",
        "#   dst = 'animals/train/'+value\n",
        "#   src = 'animals/'+value\n",
        "  \n",
        "#   shutil.copyfile(src, dst)\n"
      ],
      "metadata": {
        "id": "FAxCrPuMhpwv"
      },
      "execution_count": null,
      "outputs": []
    },
    {
      "cell_type": "code",
      "source": [
        "# for value in test_src:\n",
        "\n",
        "#   dst = 'animals/test/'+value\n",
        "#   src = 'animals/'+value\n",
        "  \n",
        "#   shutil.copyfile(src, dst)\n"
      ],
      "metadata": {
        "id": "PUVu0quHy4xt"
      },
      "execution_count": null,
      "outputs": []
    },
    {
      "cell_type": "markdown",
      "source": [
        "Importando o ImageDataGenerator, que vai ser responsável pela manipulação das imagens"
      ],
      "metadata": {
        "id": "j-49H5Dnh0mM"
      }
    },
    {
      "cell_type": "code",
      "source": [
        "import tensorflow as tf\n",
        "from tensorflow.keras.preprocessing.image import ImageDataGenerator"
      ],
      "metadata": {
        "id": "b0ntPFKcdiZK"
      },
      "execution_count": 8,
      "outputs": []
    },
    {
      "cell_type": "markdown",
      "source": [
        "Aqui foi feito um pré processo de como que as imagens vão vir"
      ],
      "metadata": {
        "id": "MdPLbWpriHHo"
      }
    },
    {
      "cell_type": "code",
      "source": [
        "train_datagen = ImageDataGenerator(\n",
        "        rescale=1./255,\n",
        "        shear_range=0.2,\n",
        "        zoom_range=0.2,\n",
        "        horizontal_flip=True)\n"
      ],
      "metadata": {
        "id": "bhty9bKETbHt"
      },
      "execution_count": 9,
      "outputs": []
    },
    {
      "cell_type": "markdown",
      "source": [
        "E a função .flow_from_directory, que vai fazer o processo de importação, rotulação das imagens, e converter elas para o tipo do tensor flow"
      ],
      "metadata": {
        "id": "UkJg3tc4iUGn"
      }
    },
    {
      "cell_type": "code",
      "source": [
        "train_generator = train_datagen.flow_from_directory(\n",
        "        'animals/train',\n",
        "        target_size=(150, 150),\n",
        "        batch_size=32\n",
        "        )\n",
        "\n",
        "train_generator"
      ],
      "metadata": {
        "colab": {
          "base_uri": "https://localhost:8080/"
        },
        "id": "qp2wc7Zo4kdu",
        "outputId": "ec55db97-154c-427f-9d27-48f73811b883"
      },
      "execution_count": 11,
      "outputs": [
        {
          "output_type": "stream",
          "name": "stdout",
          "text": [
            "Found 2100 images belonging to 3 classes.\n"
          ]
        },
        {
          "output_type": "execute_result",
          "data": {
            "text/plain": [
              "<keras.preprocessing.image.DirectoryIterator at 0x7f7cb3675ad0>"
            ]
          },
          "metadata": {},
          "execution_count": 11
        }
      ]
    },
    {
      "cell_type": "code",
      "source": [
        "test_datagen = ImageDataGenerator(rescale=1./255)\n",
        "\n",
        "test_generator = test_datagen.flow_from_directory(\n",
        "        'animals/test',\n",
        "        target_size=(150, 150),\n",
        "        batch_size=32\n",
        "        )\n"
      ],
      "metadata": {
        "colab": {
          "base_uri": "https://localhost:8080/"
        },
        "id": "nea5JdAzz8tA",
        "outputId": "a5a12f81-bead-4110-fe12-42ac538616c7"
      },
      "execution_count": 30,
      "outputs": [
        {
          "output_type": "stream",
          "name": "stdout",
          "text": [
            "Found 900 images belonging to 3 classes.\n"
          ]
        }
      ]
    },
    {
      "cell_type": "markdown",
      "source": [
        "Aqui foi feito todo o processo de montagem dos modelos, selecionando quantas camadas necessárias, filtros e etc"
      ],
      "metadata": {
        "id": "O5ETbdP7iuML"
      }
    },
    {
      "cell_type": "code",
      "source": [
        "from tensorflow.keras import layers, models"
      ],
      "metadata": {
        "id": "YMULDkFebqTH"
      },
      "execution_count": 12,
      "outputs": []
    },
    {
      "cell_type": "code",
      "source": [
        "model = models.Sequential()\n",
        "\n",
        "model.add(layers.Conv2D(32, (3, 3), activation='relu',input_shape=(150, 150, 3)))\n",
        "model.add(layers.MaxPooling2D((2, 2)))\n",
        "model.add(layers.Conv2D(64, (3, 3), activation='relu'))\n",
        "model.add(layers.MaxPooling2D((2, 2)))\n",
        "model.add(layers.Conv2D(64, (3, 3), activation='relu'))\n",
        "model.add(layers.Flatten())\n",
        "model.add(layers.Dense(128, activation='relu'))\n",
        "model.add(layers.Dense(64, activation='relu'))\n",
        "model.add(layers.Dense(3, activation='softmax'))\n",
        "\n"
      ],
      "metadata": {
        "id": "o_yXXDOS7Qo8"
      },
      "execution_count": 37,
      "outputs": []
    },
    {
      "cell_type": "code",
      "source": [
        "model.summary()"
      ],
      "metadata": {
        "id": "Hhm8zj1t7Qlf",
        "colab": {
          "base_uri": "https://localhost:8080/"
        },
        "outputId": "4b1124a7-ed41-412e-f381-e6856ae016c2"
      },
      "execution_count": 38,
      "outputs": [
        {
          "output_type": "stream",
          "name": "stdout",
          "text": [
            "Model: \"sequential_4\"\n",
            "_________________________________________________________________\n",
            " Layer (type)                Output Shape              Param #   \n",
            "=================================================================\n",
            " conv2d_10 (Conv2D)          (None, 148, 148, 32)      896       \n",
            "                                                                 \n",
            " max_pooling2d_6 (MaxPooling  (None, 74, 74, 32)       0         \n",
            " 2D)                                                             \n",
            "                                                                 \n",
            " conv2d_11 (Conv2D)          (None, 72, 72, 64)        18496     \n",
            "                                                                 \n",
            " max_pooling2d_7 (MaxPooling  (None, 36, 36, 64)       0         \n",
            " 2D)                                                             \n",
            "                                                                 \n",
            " conv2d_12 (Conv2D)          (None, 34, 34, 64)        36928     \n",
            "                                                                 \n",
            " flatten_4 (Flatten)         (None, 73984)             0         \n",
            "                                                                 \n",
            " dense_10 (Dense)            (None, 128)               9470080   \n",
            "                                                                 \n",
            " dense_11 (Dense)            (None, 64)                8256      \n",
            "                                                                 \n",
            " dense_12 (Dense)            (None, 3)                 195       \n",
            "                                                                 \n",
            "=================================================================\n",
            "Total params: 9,534,851\n",
            "Trainable params: 9,534,851\n",
            "Non-trainable params: 0\n",
            "_________________________________________________________________\n"
          ]
        }
      ]
    },
    {
      "cell_type": "markdown",
      "source": [
        "Abaixo as especificação de como será avaliada a perda, método de otimização e formas de metrificar o resultado."
      ],
      "metadata": {
        "id": "mMGOKeBzjNsr"
      }
    },
    {
      "cell_type": "code",
      "source": [
        "model.compile(optimizer='adam',\n",
        "              loss='mse',\n",
        "              metrics=['accuracy'])"
      ],
      "metadata": {
        "id": "Kt6saxXJ7Qi9"
      },
      "execution_count": 39,
      "outputs": []
    },
    {
      "cell_type": "code",
      "source": [
        "history = model.fit(train_generator, epochs=5)"
      ],
      "metadata": {
        "id": "RgrSxIQ47QgQ",
        "colab": {
          "base_uri": "https://localhost:8080/"
        },
        "outputId": "c0425b87-e9fd-4863-ab17-1e7e36c23b1c"
      },
      "execution_count": 40,
      "outputs": [
        {
          "output_type": "stream",
          "name": "stdout",
          "text": [
            "Epoch 1/5\n",
            "66/66 [==============================] - 87s 1s/step - loss: 0.1966 - accuracy: 0.5143\n",
            "Epoch 2/5\n",
            "66/66 [==============================] - 86s 1s/step - loss: 0.1516 - accuracy: 0.6348\n",
            "Epoch 3/5\n",
            "66/66 [==============================] - 86s 1s/step - loss: 0.1393 - accuracy: 0.6738\n",
            "Epoch 4/5\n",
            "66/66 [==============================] - 88s 1s/step - loss: 0.1331 - accuracy: 0.6981\n",
            "Epoch 5/5\n",
            "66/66 [==============================] - 90s 1s/step - loss: 0.1237 - accuracy: 0.7181\n"
          ]
        }
      ]
    },
    {
      "cell_type": "code",
      "source": [
        "plt.plot(history.history['accuracy'])\n",
        "plt.plot(history.history['loss'])\n",
        "plt.title('model accuracy')\n",
        "plt.ylabel('')\n",
        "plt.xlabel('epoch')\n",
        "plt.legend(['acc', 'loss'], loc='upper left')\n",
        "plt.show()"
      ],
      "metadata": {
        "colab": {
          "base_uri": "https://localhost:8080/",
          "height": 295
        },
        "id": "Gda5vU2IywG8",
        "outputId": "372f7238-b83e-49bb-a3fb-0864e2975575"
      },
      "execution_count": 41,
      "outputs": [
        {
          "output_type": "display_data",
          "data": {
            "image/png": "[encoded data removed]",
            "text/plain": [
              "<Figure size 432x288 with 1 Axes>"
            ]
          },
          "metadata": {
            "needs_background": "light"
          }
        }
      ]
    },
    {
      "cell_type": "markdown",
      "source": [
        "Agora vamos utilizar uma Rede já treinada, a Imagenet"
      ],
      "metadata": {
        "id": "5mDn5be-6dIg"
      }
    },
    {
      "cell_type": "code",
      "source": [
        "base_model = tf.keras.applications.Xception(\n",
        "    weights='imagenet',  # Load weights pre-trained on ImageNet.\n",
        "    input_shape=(150, 150, 3),\n",
        "    include_top=False)"
      ],
      "metadata": {
        "colab": {
          "base_uri": "https://localhost:8080/"
        },
        "id": "lRQ10A1YFUOc",
        "outputId": "1deddfeb-b7e5-424b-d00b-7296dac00e92"
      },
      "execution_count": 42,
      "outputs": [
        {
          "output_type": "stream",
          "name": "stdout",
          "text": [
            "Downloading data from https://storage.googleapis.com/tensorflow/keras-applications/xception/xception_weights_tf_dim_ordering_tf_kernels_notop.h5\n",
            "83689472/83683744 [==============================] - 0s 0us/step\n",
            "83697664/83683744 [==============================] - 0s 0us/step\n"
          ]
        }
      ]
    },
    {
      "cell_type": "code",
      "source": [
        "base_model.trainable = False"
      ],
      "metadata": {
        "id": "3ObUsfjk7Qdm"
      },
      "execution_count": 43,
      "outputs": []
    },
    {
      "cell_type": "code",
      "source": [
        "inputs = tf.keras.Input(shape=(150, 150, 3))\n",
        "# We make sure that the base_model is running in inference mode here,\n",
        "# by passing `training=False`. This is important for fine-tuning, as you will\n",
        "# learn in a few paragraphs.\n",
        "x = base_model(inputs, training=False)\n",
        "# Convert features of shape `base_model.output_shape[1:]` to vectors\n",
        "x = tf.keras.layers.GlobalAveragePooling2D()(x)\n",
        "# A Dense classifier with a single unit (binary classification)\n",
        "outputs = tf.keras.layers.Dense(3)(x)\n",
        "model = tf.keras.Model(inputs, outputs)"
      ],
      "metadata": {
        "id": "b1nwfOEz7Qa1"
      },
      "execution_count": 48,
      "outputs": []
    },
    {
      "cell_type": "code",
      "source": [
        "model.compile(optimizer='adam',\n",
        "              loss='mse',\n",
        "              metrics=['accuracy'])"
      ],
      "metadata": {
        "id": "j-iqxpaO7QYP"
      },
      "execution_count": 49,
      "outputs": []
    },
    {
      "cell_type": "code",
      "source": [
        "model.summary()"
      ],
      "metadata": {
        "id": "MozkLKnN7QVV",
        "colab": {
          "base_uri": "https://localhost:8080/"
        },
        "outputId": "fcb5ef84-7b80-4ab6-ad04-41c420b5052f"
      },
      "execution_count": 50,
      "outputs": [
        {
          "output_type": "stream",
          "name": "stdout",
          "text": [
            "Model: \"model_1\"\n",
            "_________________________________________________________________\n",
            " Layer (type)                Output Shape              Param #   \n",
            "=================================================================\n",
            " input_3 (InputLayer)        [(None, 150, 150, 3)]     0         \n",
            "                                                                 \n",
            " xception (Functional)       (None, 5, 5, 2048)        20861480  \n",
            "                                                                 \n",
            " global_average_pooling2d_1   (None, 2048)             0         \n",
            " (GlobalAveragePooling2D)                                        \n",
            "                                                                 \n",
            " dense_14 (Dense)            (None, 3)                 6147      \n",
            "                                                                 \n",
            "=================================================================\n",
            "Total params: 20,867,627\n",
            "Trainable params: 6,147\n",
            "Non-trainable params: 20,861,480\n",
            "_________________________________________________________________\n"
          ]
        }
      ]
    },
    {
      "cell_type": "code",
      "source": [
        "history1 = model.fit(train_generator, epochs=4)"
      ],
      "metadata": {
        "id": "URrhxPEf7QRs",
        "colab": {
          "base_uri": "https://localhost:8080/"
        },
        "outputId": "260455f1-af02-42f3-85ce-86d3245a486b"
      },
      "execution_count": 51,
      "outputs": [
        {
          "output_type": "stream",
          "name": "stdout",
          "text": [
            "Epoch 1/4\n",
            "66/66 [==============================] - 164s 2s/step - loss: 0.2965 - accuracy: 0.7776\n",
            "Epoch 2/4\n",
            "66/66 [==============================] - 161s 2s/step - loss: 0.1558 - accuracy: 0.8724\n",
            "Epoch 3/4\n",
            "66/66 [==============================] - 160s 2s/step - loss: 0.1122 - accuracy: 0.9124\n",
            "Epoch 4/4\n",
            "66/66 [==============================] - 158s 2s/step - loss: 0.0969 - accuracy: 0.9386\n"
          ]
        }
      ]
    }
  ]
}