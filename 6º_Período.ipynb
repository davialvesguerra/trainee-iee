{
  "nbformat": 4,
  "nbformat_minor": 0,
  "metadata": {
    "colab": {
      "name": "6º Período",
      "provenance": [],
      "collapsed_sections": [],
      "authorship_tag": "ABX9TyMAUQzj5S6lLb3xuxrlShci",
      "include_colab_link": true
    },
    "kernelspec": {
      "name": "python3",
      "display_name": "Python 3"
    },
    "language_info": {
      "name": "python"
    }
  },
  "cells": [
    {
      "cell_type": "markdown",
      "metadata": {
        "id": "view-in-github",
        "colab_type": "text"
      },
      "source": [
        "<a href=\"https://colab.research.google.com/github/davialvesguerra/trainee-iee/blob/main/6%C2%BA_Per%C3%ADodo.ipynb\" target=\"_parent\"><img src=\"https://colab.research.google.com/assets/colab-badge.svg\" alt=\"Open In Colab\"/></a>"
      ]
    },
    {
      "cell_type": "code",
      "execution_count": 1,
      "metadata": {
        "colab": {
          "base_uri": "https://localhost:8080/"
        },
        "id": "XdDxPt-ypldL",
        "outputId": "1cbf36d6-33b0-4417-f66a-73fb4a30960c"
      },
      "outputs": [
        {
          "output_type": "stream",
          "name": "stdout",
          "text": [
            "Drive already mounted at /content/gdrive; to attempt to forcibly remount, call drive.mount(\"/content/gdrive\", force_remount=True).\n"
          ]
        }
      ],
      "source": [
        "import pandas as pd\n",
        "from google.colab import drive\n",
        "import matplotlib.pyplot as plt\n",
        "import numpy as np\n",
        "import os\n",
        "import seaborn as sns\n",
        "\n",
        "\n",
        "drive.mount('/content/gdrive')"
      ]
    },
    {
      "cell_type": "code",
      "source": [
        "data = pd.read_csv('gdrive/My Drive/iee/6º Período/Musical_instruments_reviews.csv')\n",
        "data.columns"
      ],
      "metadata": {
        "colab": {
          "base_uri": "https://localhost:8080/"
        },
        "id": "JcI3rkU_Z9oW",
        "outputId": "73aca2e3-9b34-495c-94f9-32f7d346920c"
      },
      "execution_count": 2,
      "outputs": [
        {
          "output_type": "execute_result",
          "data": {
            "text/plain": [
              "Index(['reviewerID', 'asin', 'reviewerName', 'helpful', 'reviewText',\n",
              "       'overall', 'summary', 'unixReviewTime', 'reviewTime'],\n",
              "      dtype='object')"
            ]
          },
          "metadata": {},
          "execution_count": 2
        }
      ]
    },
    {
      "cell_type": "code",
      "source": [
        "data"
      ],
      "metadata": {
        "id": "0gagadc4TFpS",
        "colab": {
          "base_uri": "https://localhost:8080/",
          "height": 641
        },
        "outputId": "bde05c49-1afa-4797-8ab4-14d2dd15f9f7"
      },
      "execution_count": 4,
      "outputs": [
        {
          "output_type": "execute_result",
          "data": {
            "text/plain": [
              "           reviewerID        asin  \\\n",
              "0      A2IBPI20UZIR0U  1384719342   \n",
              "1      A14VAT5EAX3D9S  1384719342   \n",
              "2      A195EZSQDW3E21  1384719342   \n",
              "3      A2C00NNG1ZQQG2  1384719342   \n",
              "4       A94QU4C90B1AX  1384719342   \n",
              "...               ...         ...   \n",
              "10256  A14B2YH83ZXMPP  B00JBIVXGC   \n",
              "10257   A1RPTVW5VEOSI  B00JBIVXGC   \n",
              "10258   AWCJ12KBO5VII  B00JBIVXGC   \n",
              "10259  A2Z7S8B5U4PAKJ  B00JBIVXGC   \n",
              "10260  A2WA8TDCTGUADI  B00JBIVXGC   \n",
              "\n",
              "                                           reviewerName   helpful  \\\n",
              "0      cassandra tu \"Yeah, well, that's just like, u...    [0, 0]   \n",
              "1                                                  Jake  [13, 14]   \n",
              "2                         Rick Bennette \"Rick Bennette\"    [1, 1]   \n",
              "3                             RustyBill \"Sunday Rocker\"    [0, 0]   \n",
              "4                                         SEAN MASLANKA    [0, 0]   \n",
              "...                                                 ...       ...   \n",
              "10256                                   Lonnie M. Adams    [0, 0]   \n",
              "10257                                Michael J. Edelman    [0, 0]   \n",
              "10258                                  Michael L. Knapp    [0, 0]   \n",
              "10259                           Rick Langdon \"Scriptor\"    [0, 0]   \n",
              "10260                                   TheTerrorBeyond    [0, 0]   \n",
              "\n",
              "                                              reviewText  overall  \\\n",
              "0      Not much to write about here, but it does exac...      5.0   \n",
              "1      The product does exactly as it should and is q...      5.0   \n",
              "2      The primary job of this device is to block the...      5.0   \n",
              "3      Nice windscreen protects my MXL mic and preven...      5.0   \n",
              "4      This pop filter is great. It looks and perform...      5.0   \n",
              "...                                                  ...      ...   \n",
              "10256            Great, just as expected.  Thank to all.      5.0   \n",
              "10257  I've been thinking about trying the Nanoweb st...      5.0   \n",
              "10258  I have tried coated strings in the past ( incl...      4.0   \n",
              "10259  Well, MADE by Elixir and DEVELOPED with Taylor...      4.0   \n",
              "10260  These strings are really quite good, but I wou...      4.0   \n",
              "\n",
              "                                                 summary  unixReviewTime  \\\n",
              "0                                                   good      1393545600   \n",
              "1                                                   Jake      1363392000   \n",
              "2                                   It Does The Job Well      1377648000   \n",
              "3                          GOOD WINDSCREEN FOR THE MONEY      1392336000   \n",
              "4                  No more pops when I record my vocals.      1392940800   \n",
              "...                                                  ...             ...   \n",
              "10256                                         Five Stars      1405814400   \n",
              "10257  Long life, and for some players, a good econom...      1404259200   \n",
              "10258                                   Good for coated.      1405987200   \n",
              "10259                                        Taylor Made      1404172800   \n",
              "10260  These strings are really quite good, but I wou...      1405468800   \n",
              "\n",
              "        reviewTime  \n",
              "0      02 28, 2014  \n",
              "1      03 16, 2013  \n",
              "2      08 28, 2013  \n",
              "3      02 14, 2014  \n",
              "4      02 21, 2014  \n",
              "...            ...  \n",
              "10256  07 20, 2014  \n",
              "10257   07 2, 2014  \n",
              "10258  07 22, 2014  \n",
              "10259   07 1, 2014  \n",
              "10260  07 16, 2014  \n",
              "\n",
              "[10261 rows x 9 columns]"
            ],
            "text/html": [
              "\n",
              "  <div id=\"df-6538bde8-b552-43f0-a6b0-d573437792d5\">\n",
              "    <div class=\"colab-df-container\">\n",
              "      <div>\n",
              "<style scoped>\n",
              "    .dataframe tbody tr th:only-of-type {\n",
              "        vertical-align: middle;\n",
              "    }\n",
              "\n",
              "    .dataframe tbody tr th {\n",
              "        vertical-align: top;\n",
              "    }\n",
              "\n",
              "    .dataframe thead th {\n",
              "        text-align: right;\n",
              "    }\n",
              "</style>\n",
              "<table border=\"1\" class=\"dataframe\">\n",
              "  <thead>\n",
              "    <tr style=\"text-align: right;\">\n",
              "      <th></th>\n",
              "      <th>reviewerID</th>\n",
              "      <th>asin</th>\n",
              "      <th>reviewerName</th>\n",
              "      <th>helpful</th>\n",
              "      <th>reviewText</th>\n",
              "      <th>overall</th>\n",
              "      <th>summary</th>\n",
              "      <th>unixReviewTime</th>\n",
              "      <th>reviewTime</th>\n",
              "    </tr>\n",
              "  </thead>\n",
              "  <tbody>\n",
              "    <tr>\n",
              "      <th>0</th>\n",
              "      <td>A2IBPI20UZIR0U</td>\n",
              "      <td>1384719342</td>\n",
              "      <td>cassandra tu \"Yeah, well, that's just like, u...</td>\n",
              "      <td>[0, 0]</td>\n",
              "      <td>Not much to write about here, but it does exac...</td>\n",
              "      <td>5.0</td>\n",
              "      <td>good</td>\n",
              "      <td>1393545600</td>\n",
              "      <td>02 28, 2014</td>\n",
              "    </tr>\n",
              "    <tr>\n",
              "      <th>1</th>\n",
              "      <td>A14VAT5EAX3D9S</td>\n",
              "      <td>1384719342</td>\n",
              "      <td>Jake</td>\n",
              "      <td>[13, 14]</td>\n",
              "      <td>The product does exactly as it should and is q...</td>\n",
              "      <td>5.0</td>\n",
              "      <td>Jake</td>\n",
              "      <td>1363392000</td>\n",
              "      <td>03 16, 2013</td>\n",
              "    </tr>\n",
              "    <tr>\n",
              "      <th>2</th>\n",
              "      <td>A195EZSQDW3E21</td>\n",
              "      <td>1384719342</td>\n",
              "      <td>Rick Bennette \"Rick Bennette\"</td>\n",
              "      <td>[1, 1]</td>\n",
              "      <td>The primary job of this device is to block the...</td>\n",
              "      <td>5.0</td>\n",
              "      <td>It Does The Job Well</td>\n",
              "      <td>1377648000</td>\n",
              "      <td>08 28, 2013</td>\n",
              "    </tr>\n",
              "    <tr>\n",
              "      <th>3</th>\n",
              "      <td>A2C00NNG1ZQQG2</td>\n",
              "      <td>1384719342</td>\n",
              "      <td>RustyBill \"Sunday Rocker\"</td>\n",
              "      <td>[0, 0]</td>\n",
              "      <td>Nice windscreen protects my MXL mic and preven...</td>\n",
              "      <td>5.0</td>\n",
              "      <td>GOOD WINDSCREEN FOR THE MONEY</td>\n",
              "      <td>1392336000</td>\n",
              "      <td>02 14, 2014</td>\n",
              "    </tr>\n",
              "    <tr>\n",
              "      <th>4</th>\n",
              "      <td>A94QU4C90B1AX</td>\n",
              "      <td>1384719342</td>\n",
              "      <td>SEAN MASLANKA</td>\n",
              "      <td>[0, 0]</td>\n",
              "      <td>This pop filter is great. It looks and perform...</td>\n",
              "      <td>5.0</td>\n",
              "      <td>No more pops when I record my vocals.</td>\n",
              "      <td>1392940800</td>\n",
              "      <td>02 21, 2014</td>\n",
              "    </tr>\n",
              "    <tr>\n",
              "      <th>...</th>\n",
              "      <td>...</td>\n",
              "      <td>...</td>\n",
              "      <td>...</td>\n",
              "      <td>...</td>\n",
              "      <td>...</td>\n",
              "      <td>...</td>\n",
              "      <td>...</td>\n",
              "      <td>...</td>\n",
              "      <td>...</td>\n",
              "    </tr>\n",
              "    <tr>\n",
              "      <th>10256</th>\n",
              "      <td>A14B2YH83ZXMPP</td>\n",
              "      <td>B00JBIVXGC</td>\n",
              "      <td>Lonnie M. Adams</td>\n",
              "      <td>[0, 0]</td>\n",
              "      <td>Great, just as expected.  Thank to all.</td>\n",
              "      <td>5.0</td>\n",
              "      <td>Five Stars</td>\n",
              "      <td>1405814400</td>\n",
              "      <td>07 20, 2014</td>\n",
              "    </tr>\n",
              "    <tr>\n",
              "      <th>10257</th>\n",
              "      <td>A1RPTVW5VEOSI</td>\n",
              "      <td>B00JBIVXGC</td>\n",
              "      <td>Michael J. Edelman</td>\n",
              "      <td>[0, 0]</td>\n",
              "      <td>I've been thinking about trying the Nanoweb st...</td>\n",
              "      <td>5.0</td>\n",
              "      <td>Long life, and for some players, a good econom...</td>\n",
              "      <td>1404259200</td>\n",
              "      <td>07 2, 2014</td>\n",
              "    </tr>\n",
              "    <tr>\n",
              "      <th>10258</th>\n",
              "      <td>AWCJ12KBO5VII</td>\n",
              "      <td>B00JBIVXGC</td>\n",
              "      <td>Michael L. Knapp</td>\n",
              "      <td>[0, 0]</td>\n",
              "      <td>I have tried coated strings in the past ( incl...</td>\n",
              "      <td>4.0</td>\n",
              "      <td>Good for coated.</td>\n",
              "      <td>1405987200</td>\n",
              "      <td>07 22, 2014</td>\n",
              "    </tr>\n",
              "    <tr>\n",
              "      <th>10259</th>\n",
              "      <td>A2Z7S8B5U4PAKJ</td>\n",
              "      <td>B00JBIVXGC</td>\n",
              "      <td>Rick Langdon \"Scriptor\"</td>\n",
              "      <td>[0, 0]</td>\n",
              "      <td>Well, MADE by Elixir and DEVELOPED with Taylor...</td>\n",
              "      <td>4.0</td>\n",
              "      <td>Taylor Made</td>\n",
              "      <td>1404172800</td>\n",
              "      <td>07 1, 2014</td>\n",
              "    </tr>\n",
              "    <tr>\n",
              "      <th>10260</th>\n",
              "      <td>A2WA8TDCTGUADI</td>\n",
              "      <td>B00JBIVXGC</td>\n",
              "      <td>TheTerrorBeyond</td>\n",
              "      <td>[0, 0]</td>\n",
              "      <td>These strings are really quite good, but I wou...</td>\n",
              "      <td>4.0</td>\n",
              "      <td>These strings are really quite good, but I wou...</td>\n",
              "      <td>1405468800</td>\n",
              "      <td>07 16, 2014</td>\n",
              "    </tr>\n",
              "  </tbody>\n",
              "</table>\n",
              "<p>10261 rows × 9 columns</p>\n",
              "</div>\n",
              "      <button class=\"colab-df-convert\" onclick=\"convertToInteractive('df-6538bde8-b552-43f0-a6b0-d573437792d5')\"\n",
              "              title=\"Convert this dataframe to an interactive table.\"\n",
              "              style=\"display:none;\">\n",
              "        \n",
              "  <svg xmlns=\"http://www.w3.org/2000/svg\" height=\"24px\"viewBox=\"0 0 24 24\"\n",
              "       width=\"24px\">\n",
              "    <path d=\"M0 0h24v24H0V0z\" fill=\"none\"/>\n",
              "    <path d=\"M18.56 5.44l.94 2.06.94-2.06 2.06-.94-2.06-.94-.94-2.06-.94 2.06-2.06.94zm-11 1L8.5 8.5l.94-2.06 2.06-.94-2.06-.94L8.5 2.5l-.94 2.06-2.06.94zm10 10l.94 2.06.94-2.06 2.06-.94-2.06-.94-.94-2.06-.94 2.06-2.06.94z\"/><path d=\"M17.41 7.96l-1.37-1.37c-.4-.4-.92-.59-1.43-.59-.52 0-1.04.2-1.43.59L10.3 9.45l-7.72 7.72c-.78.78-.78 2.05 0 2.83L4 21.41c.39.39.9.59 1.41.59.51 0 1.02-.2 1.41-.59l7.78-7.78 2.81-2.81c.8-.78.8-2.07 0-2.86zM5.41 20L4 18.59l7.72-7.72 1.47 1.35L5.41 20z\"/>\n",
              "  </svg>\n",
              "      </button>\n",
              "      \n",
              "  <style>\n",
              "    .colab-df-container {\n",
              "      display:flex;\n",
              "      flex-wrap:wrap;\n",
              "      gap: 12px;\n",
              "    }\n",
              "\n",
              "    .colab-df-convert {\n",
              "      background-color: #E8F0FE;\n",
              "      border: none;\n",
              "      border-radius: 50%;\n",
              "      cursor: pointer;\n",
              "      display: none;\n",
              "      fill: #1967D2;\n",
              "      height: 32px;\n",
              "      padding: 0 0 0 0;\n",
              "      width: 32px;\n",
              "    }\n",
              "\n",
              "    .colab-df-convert:hover {\n",
              "      background-color: #E2EBFA;\n",
              "      box-shadow: 0px 1px 2px rgba(60, 64, 67, 0.3), 0px 1px 3px 1px rgba(60, 64, 67, 0.15);\n",
              "      fill: #174EA6;\n",
              "    }\n",
              "\n",
              "    [theme=dark] .colab-df-convert {\n",
              "      background-color: #3B4455;\n",
              "      fill: #D2E3FC;\n",
              "    }\n",
              "\n",
              "    [theme=dark] .colab-df-convert:hover {\n",
              "      background-color: #434B5C;\n",
              "      box-shadow: 0px 1px 3px 1px rgba(0, 0, 0, 0.15);\n",
              "      filter: drop-shadow(0px 1px 2px rgba(0, 0, 0, 0.3));\n",
              "      fill: #FFFFFF;\n",
              "    }\n",
              "  </style>\n",
              "\n",
              "      <script>\n",
              "        const buttonEl =\n",
              "          document.querySelector('#df-6538bde8-b552-43f0-a6b0-d573437792d5 button.colab-df-convert');\n",
              "        buttonEl.style.display =\n",
              "          google.colab.kernel.accessAllowed ? 'block' : 'none';\n",
              "\n",
              "        async function convertToInteractive(key) {\n",
              "          const element = document.querySelector('#df-6538bde8-b552-43f0-a6b0-d573437792d5');\n",
              "          const dataTable =\n",
              "            await google.colab.kernel.invokeFunction('convertToInteractive',\n",
              "                                                     [key], {});\n",
              "          if (!dataTable) return;\n",
              "\n",
              "          const docLinkHtml = 'Like what you see? Visit the ' +\n",
              "            '<a target=\"_blank\" href=https://colab.research.google.com/notebooks/data_table.ipynb>data table notebook</a>'\n",
              "            + ' to learn more about interactive tables.';\n",
              "          element.innerHTML = '';\n",
              "          dataTable['output_type'] = 'display_data';\n",
              "          await google.colab.output.renderOutput(dataTable, element);\n",
              "          const docLink = document.createElement('div');\n",
              "          docLink.innerHTML = docLinkHtml;\n",
              "          element.appendChild(docLink);\n",
              "        }\n",
              "      </script>\n",
              "    </div>\n",
              "  </div>\n",
              "  "
            ]
          },
          "metadata": {},
          "execution_count": 4
        }
      ]
    },
    {
      "cell_type": "markdown",
      "source": [
        "### Baixando os pacotes para fazer a limpeza dos dados"
      ],
      "metadata": {
        "id": "H1c2uO4Llvcc"
      }
    },
    {
      "cell_type": "code",
      "source": [
        "import re\n",
        "import nltk\n",
        "from nltk.corpus import stopwords"
      ],
      "metadata": {
        "id": "UK0BySfjUhk3"
      },
      "execution_count": 5,
      "outputs": []
    },
    {
      "cell_type": "code",
      "source": [
        "nltk.download('stopwords')"
      ],
      "metadata": {
        "id": "T0a_CFPGXAlA",
        "colab": {
          "base_uri": "https://localhost:8080/"
        },
        "outputId": "6334d7ca-202b-404e-8535-d1ab393c63f1"
      },
      "execution_count": 6,
      "outputs": [
        {
          "output_type": "stream",
          "name": "stdout",
          "text": [
            "[nltk_data] Downloading package stopwords to /root/nltk_data...\n",
            "[nltk_data]   Package stopwords is already up-to-date!\n"
          ]
        },
        {
          "output_type": "execute_result",
          "data": {
            "text/plain": [
              "True"
            ]
          },
          "metadata": {},
          "execution_count": 6
        }
      ]
    },
    {
      "cell_type": "code",
      "source": [
        "stop_words = set(stopwords.words('english'))\n",
        "stop_words = list(stop_words)\n",
        "stop_words.sort()"
      ],
      "metadata": {
        "id": "abOQ6arlWXHB"
      },
      "execution_count": 7,
      "outputs": []
    },
    {
      "cell_type": "markdown",
      "source": [
        "### Criando uma função para fazer uma busca no vetor de stop words mais rápida"
      ],
      "metadata": {
        "id": "ng2GHeJ6l18t"
      }
    },
    {
      "cell_type": "code",
      "source": [
        "from bisect import bisect_left\n",
        "\n",
        "def BinarySearch(a, x):\n",
        "    i = bisect_left(a, x)\n",
        "    if i != len(a) and a[i] == x:\n",
        "        return i\n",
        "    else:\n",
        "        return -1"
      ],
      "metadata": {
        "id": "nBShnU8KCMZ7"
      },
      "execution_count": 8,
      "outputs": []
    },
    {
      "cell_type": "markdown",
      "source": [
        "### Criando a função para fazer a limpeza dos dados"
      ],
      "metadata": {
        "id": "xfqc7zDHl9-r"
      }
    },
    {
      "cell_type": "code",
      "source": [
        "def clean_text(text):\n",
        "\n",
        "  text = str(text).lower()\n",
        "  text = re.sub('\\W', ' ', text)\n",
        "  text = re.sub('\\d', ' ', text)\n",
        "  text = text if len(text) > 1 else ' '\n",
        "  new_text = []\n",
        "\n",
        "  for word in text.split():\n",
        "\n",
        "    if BinarySearch(stop_words,word) != -1:\n",
        "      pass\n",
        "\n",
        "    else:\n",
        "      new_text.append(word)\n",
        "\n",
        "  new_text = ' '.join(new_text)\n",
        "\n",
        "  return new_text\n",
        "\n",
        "def prepare_words(vec_words):\n",
        "\n",
        "  vec_words = [clean_text(text) for text in vec_words]\n",
        "  \n",
        "  return vec_words"
      ],
      "metadata": {
        "id": "4M8JA3_uTWIB"
      },
      "execution_count": 10,
      "outputs": []
    },
    {
      "cell_type": "markdown",
      "source": [
        " Escolhendo as variáveis explicativas e resposta"
      ],
      "metadata": {
        "id": "nOS9yNjQ4eyt"
      }
    },
    {
      "cell_type": "code",
      "source": [
        "X = data['reviewText'] + data['summary'] \n",
        "y = data['overall']"
      ],
      "metadata": {
        "id": "nLUatCHOAF6j"
      },
      "execution_count": 11,
      "outputs": []
    },
    {
      "cell_type": "code",
      "source": [
        "X = prepare_words(X)"
      ],
      "metadata": {
        "id": "l_tO-nxj1PDv"
      },
      "execution_count": 12,
      "outputs": []
    },
    {
      "cell_type": "code",
      "source": [
        "from sklearn.feature_extraction.text import TfidfVectorizer"
      ],
      "metadata": {
        "id": "UIaiAtfpAW4k"
      },
      "execution_count": 13,
      "outputs": []
    },
    {
      "cell_type": "markdown",
      "source": [
        "Usando o método Tfidf para transformar as palavras em números relevantes"
      ],
      "metadata": {
        "id": "2nqCzgYA5QLn"
      }
    },
    {
      "cell_type": "code",
      "source": [
        "vectorizer = TfidfVectorizer()\n",
        "X = vectorizer.fit_transform(X).toarray()"
      ],
      "metadata": {
        "id": "S9IUotywGDNB"
      },
      "execution_count": 14,
      "outputs": []
    },
    {
      "cell_type": "code",
      "source": [
        "from sklearn.model_selection import train_test_split"
      ],
      "metadata": {
        "id": "SqAHM5MUdjEr"
      },
      "execution_count": 15,
      "outputs": []
    },
    {
      "cell_type": "code",
      "source": [
        "X_train, X_test, y_train, y_test = train_test_split(X, y, test_size=0.7, random_state=0)"
      ],
      "metadata": {
        "id": "yYNXg_PRdhU4"
      },
      "execution_count": 16,
      "outputs": []
    },
    {
      "cell_type": "markdown",
      "source": [
        "Usando o método GaussinaNB para fazer a predição do texto"
      ],
      "metadata": {
        "id": "zUR9XHIT5aQ1"
      }
    },
    {
      "cell_type": "code",
      "source": [
        "from sklearn.naive_bayes import GaussianNB"
      ],
      "metadata": {
        "id": "vPxdKV8SGTnQ"
      },
      "execution_count": 17,
      "outputs": []
    },
    {
      "cell_type": "code",
      "source": [
        "gnb = GaussianNB()\n",
        "y_pred = gnb.fit(X_train, y_train).predict(X_test)\n",
        "y_pred"
      ],
      "metadata": {
        "id": "FNLcThRPG-qx",
        "colab": {
          "base_uri": "https://localhost:8080/"
        },
        "outputId": "14b8c21c-be81-48f5-c32c-ca83eee17d9a"
      },
      "execution_count": 18,
      "outputs": [
        {
          "output_type": "execute_result",
          "data": {
            "text/plain": [
              "array([5., 4., 4., ..., 3., 5., 5.])"
            ]
          },
          "metadata": {},
          "execution_count": 18
        }
      ]
    },
    {
      "cell_type": "code",
      "source": [
        "from sklearn.metrics import confusion_matrix"
      ],
      "metadata": {
        "id": "bG0po1SWd2IM"
      },
      "execution_count": 19,
      "outputs": []
    },
    {
      "cell_type": "markdown",
      "source": [
        "Verificando o resultado utilizando o tfidf e o GaussianNB"
      ],
      "metadata": {
        "id": "GRDtig_X5krG"
      }
    },
    {
      "cell_type": "code",
      "source": [
        "conf_matrix = confusion_matrix(y_test, y_pred)\n",
        "\n",
        "ax = sns.heatmap(conf_matrix, annot=True,  fmt='g')\n",
        "ax.set(xlabel='Y test', ylabel='Y pred')\n",
        "plt.show()"
      ],
      "metadata": {
        "colab": {
          "base_uri": "https://localhost:8080/",
          "height": 279
        },
        "id": "J4cnBb1aejVs",
        "outputId": "7558cdb7-6a38-44c5-d8e4-0f46394a554e"
      },
      "execution_count": 20,
      "outputs": [
        {
          "output_type": "display_data",
          "data": {
            "text/plain": [
              "<Figure size 432x288 with 2 Axes>"
            ],
            "image/png": "[encoded data removed]"
          },
          "metadata": {
            "needs_background": "light"
          }
        }
      ]
    },
    {
      "cell_type": "code",
      "source": [
        "from sklearn.metrics import accuracy_score"
      ],
      "metadata": {
        "id": "uHW2ll6xkvno"
      },
      "execution_count": 21,
      "outputs": []
    },
    {
      "cell_type": "code",
      "source": [
        "accuracy_score(y_test,y_pred)"
      ],
      "metadata": {
        "colab": {
          "base_uri": "https://localhost:8080/"
        },
        "id": "trekZKTtkwUP",
        "outputId": "9c3c808f-290c-4c2b-9d62-e8c67e43e6cf"
      },
      "execution_count": 22,
      "outputs": [
        {
          "output_type": "execute_result",
          "data": {
            "text/plain": [
              "0.46846721425588195"
            ]
          },
          "metadata": {},
          "execution_count": 22
        }
      ]
    },
    {
      "cell_type": "markdown",
      "source": [
        "## Usando redes neurais"
      ],
      "metadata": {
        "id": "VUBJXvHk1tnO"
      }
    },
    {
      "cell_type": "code",
      "source": [
        "X = data['reviewText'] + data['summary'] \n",
        "X = X.apply(str)"
      ],
      "metadata": {
        "id": "g_7176CV1xvE"
      },
      "execution_count": 23,
      "outputs": []
    },
    {
      "cell_type": "code",
      "source": [
        "X = prepare_words(X)"
      ],
      "metadata": {
        "id": "MBXFUTe3eDp0"
      },
      "execution_count": 24,
      "outputs": []
    },
    {
      "cell_type": "code",
      "source": [
        "X_train, X_test, y_train, y_test = train_test_split(X, y, test_size=0.7, random_state=0)"
      ],
      "metadata": {
        "id": "B-AF5Wp_yBXO"
      },
      "execution_count": 25,
      "outputs": []
    },
    {
      "cell_type": "code",
      "source": [
        "import tensorflow as tf\n",
        "from tensorflow.keras.preprocessing.text import Tokenizer"
      ],
      "metadata": {
        "id": "jINKD31K2Ixv"
      },
      "execution_count": 26,
      "outputs": []
    },
    {
      "cell_type": "code",
      "source": [
        "token = Tokenizer(num_words=1600)\n",
        "token.fit_on_texts(X_train)\n",
        "X_train_H = token.texts_to_sequences(X_train)\n",
        "X_test_H = token.texts_to_sequences(X_test)"
      ],
      "metadata": {
        "id": "Ijgg1PAU1z-2"
      },
      "execution_count": 27,
      "outputs": []
    },
    {
      "cell_type": "code",
      "source": [
        "y_train = tf.keras.utils.to_categorical(y_train)"
      ],
      "metadata": {
        "id": "jiwP5bMq4MLh"
      },
      "execution_count": 28,
      "outputs": []
    },
    {
      "cell_type": "code",
      "source": [
        "vocab_size = len(token.word_index) + 1"
      ],
      "metadata": {
        "id": "DzLR_FDo6Z7u"
      },
      "execution_count": 29,
      "outputs": []
    },
    {
      "cell_type": "code",
      "source": [
        "from keras.preprocessing.sequence import pad_sequences"
      ],
      "metadata": {
        "id": "5aDA9ol2zeAE"
      },
      "execution_count": 30,
      "outputs": []
    },
    {
      "cell_type": "code",
      "source": [
        "maxlen = 100\n",
        "\n",
        "X_train_H = pad_sequences(X_train_H, padding='post', maxlen=maxlen)\n",
        "X_test_H = pad_sequences(X_test_H, padding='post', maxlen=maxlen)"
      ],
      "metadata": {
        "id": "DSwGpdxM5K6d"
      },
      "execution_count": 31,
      "outputs": []
    },
    {
      "cell_type": "code",
      "source": [
        "from tensorflow.keras import layers, models"
      ],
      "metadata": {
        "id": "9vaCJNd1uJri"
      },
      "execution_count": 32,
      "outputs": []
    },
    {
      "cell_type": "code",
      "source": [
        "parada = tf.keras.callbacks.EarlyStopping(\n",
        "    monitor=\"val_loss\",\n",
        "    patience=3\n",
        "    \n",
        ")"
      ],
      "metadata": {
        "id": "c1rS-AWF1UH8"
      },
      "execution_count": 33,
      "outputs": []
    },
    {
      "cell_type": "markdown",
      "source": [
        "Usando no modelo uma LSTM unidirecional"
      ],
      "metadata": {
        "id": "FvzYszbhiYUV"
      }
    },
    {
      "cell_type": "code",
      "source": [
        "#vamos chamar de model1 o modelo que usa a LSTM unidirecional\n",
        "dropout = 0.2\n",
        "lr = 0.001\n",
        "\n",
        "model1 = models.Sequential()\n",
        "model1.add(layers.Embedding(input_dim=2000, output_dim= 256  ,mask_zero=True)) \n",
        "model1.add(tf.keras.layers.LSTM(64))\n",
        "model1.add(tf.keras.layers.Dense(64, activation='relu'))\n",
        "model1.add(layers.Dropout(dropout))\n",
        "model1.add(tf.keras.layers.Dense(6, activation='softmax'))\n",
        "model1.compile(optimizer=tf.keras.optimizers.Adam(learning_rate=lr),\n",
        "                  loss=tf.keras.losses.CategoricalCrossentropy(),\n",
        "                  metrics=['accuracy'])"
      ],
      "metadata": {
        "id": "Jjv0yBjHgeD2"
      },
      "execution_count": 34,
      "outputs": []
    },
    {
      "cell_type": "code",
      "source": [
        "model1.summary()"
      ],
      "metadata": {
        "colab": {
          "base_uri": "https://localhost:8080/"
        },
        "id": "6ctIEAwUgqPN",
        "outputId": "e00790a0-0ae9-432f-db0c-87ae28fa012e"
      },
      "execution_count": 35,
      "outputs": [
        {
          "output_type": "stream",
          "name": "stdout",
          "text": [
            "Model: \"sequential\"\n",
            "_________________________________________________________________\n",
            " Layer (type)                Output Shape              Param #   \n",
            "=================================================================\n",
            " embedding (Embedding)       (None, None, 256)         512000    \n",
            "                                                                 \n",
            " lstm (LSTM)                 (None, 64)                82176     \n",
            "                                                                 \n",
            " dense (Dense)               (None, 64)                4160      \n",
            "                                                                 \n",
            " dropout (Dropout)           (None, 64)                0         \n",
            "                                                                 \n",
            " dense_1 (Dense)             (None, 6)                 390       \n",
            "                                                                 \n",
            "=================================================================\n",
            "Total params: 598,726\n",
            "Trainable params: 598,726\n",
            "Non-trainable params: 0\n",
            "_________________________________________________________________\n"
          ]
        }
      ]
    },
    {
      "cell_type": "code",
      "source": [
        "history1 = model1.fit(X_train_H, y_train,\n",
        "          epochs=10,\n",
        "          verbose=2,\n",
        "          validation_split = 0.15,\n",
        "          batch_size=258,\n",
        "          callbacks = parada)"
      ],
      "metadata": {
        "colab": {
          "base_uri": "https://localhost:8080/"
        },
        "id": "WcoUt5dMgue-",
        "outputId": "fa1cf1bc-846f-46da-ba07-30b7ff20f8ab"
      },
      "execution_count": 36,
      "outputs": [
        {
          "output_type": "stream",
          "name": "stdout",
          "text": [
            "Epoch 1/10\n",
            "11/11 - 19s - loss: 1.7202 - accuracy: 0.5623 - val_loss: 1.4584 - val_accuracy: 0.6948 - 19s/epoch - 2s/step\n",
            "Epoch 2/10\n",
            "11/11 - 7s - loss: 1.1697 - accuracy: 0.6720 - val_loss: 0.9079 - val_accuracy: 0.6948 - 7s/epoch - 615ms/step\n",
            "Epoch 3/10\n",
            "11/11 - 6s - loss: 1.0357 - accuracy: 0.6583 - val_loss: 0.8767 - val_accuracy: 0.6948 - 6s/epoch - 557ms/step\n",
            "Epoch 4/10\n",
            "11/11 - 6s - loss: 0.9946 - accuracy: 0.6720 - val_loss: 0.8769 - val_accuracy: 0.6948 - 6s/epoch - 559ms/step\n",
            "Epoch 5/10\n",
            "11/11 - 7s - loss: 0.9555 - accuracy: 0.6705 - val_loss: 0.8551 - val_accuracy: 0.6948 - 7s/epoch - 606ms/step\n",
            "Epoch 6/10\n",
            "11/11 - 6s - loss: 0.8921 - accuracy: 0.6728 - val_loss: 0.8225 - val_accuracy: 0.6948 - 6s/epoch - 563ms/step\n",
            "Epoch 7/10\n",
            "11/11 - 6s - loss: 0.8021 - accuracy: 0.6823 - val_loss: 0.8022 - val_accuracy: 0.6926 - 6s/epoch - 562ms/step\n",
            "Epoch 8/10\n",
            "11/11 - 7s - loss: 0.7235 - accuracy: 0.7194 - val_loss: 0.8564 - val_accuracy: 0.6797 - 7s/epoch - 639ms/step\n",
            "Epoch 9/10\n",
            "11/11 - 6s - loss: 0.6561 - accuracy: 0.7531 - val_loss: 0.9282 - val_accuracy: 0.6732 - 6s/epoch - 555ms/step\n",
            "Epoch 10/10\n",
            "11/11 - 6s - loss: 0.5916 - accuracy: 0.7791 - val_loss: 0.9273 - val_accuracy: 0.6429 - 6s/epoch - 566ms/step\n"
          ]
        }
      ]
    },
    {
      "cell_type": "markdown",
      "source": [
        "Usando no modelo uma LSTM bidirecional"
      ],
      "metadata": {
        "id": "E0h8f2SWfl5f"
      }
    },
    {
      "cell_type": "code",
      "source": [
        "#vamos chamar de model2 o modelo que usa a LSTM bidirecional\n",
        "dropout = 0.2\n",
        "lr = 0.001\n",
        "\n",
        "model2 = models.Sequential()\n",
        "model2.add(layers.Embedding(input_dim=2000, output_dim= 256  ,mask_zero=True)) \n",
        "model2.add(tf.keras.layers.Bidirectional(tf.keras.layers.LSTM(64)))\n",
        "model2.add(tf.keras.layers.Dense(64, activation='relu'))\n",
        "model2.add(layers.Dropout(dropout))\n",
        "model2.add(tf.keras.layers.Dense(6, activation='softmax'))\n",
        "model2.compile(optimizer=tf.keras.optimizers.Adam(learning_rate=lr),\n",
        "                  loss=tf.keras.losses.CategoricalCrossentropy(),\n",
        "                  metrics=['accuracy'])"
      ],
      "metadata": {
        "id": "ZIehrJ96srTR"
      },
      "execution_count": 37,
      "outputs": []
    },
    {
      "cell_type": "code",
      "source": [
        "model2.summary()"
      ],
      "metadata": {
        "colab": {
          "base_uri": "https://localhost:8080/"
        },
        "id": "ycVJUjJfFMVY",
        "outputId": "99d1559e-9a3c-499f-c8eb-55dc2e1aed5c"
      },
      "execution_count": 38,
      "outputs": [
        {
          "output_type": "stream",
          "name": "stdout",
          "text": [
            "Model: \"sequential_1\"\n",
            "_________________________________________________________________\n",
            " Layer (type)                Output Shape              Param #   \n",
            "=================================================================\n",
            " embedding_1 (Embedding)     (None, None, 256)         512000    \n",
            "                                                                 \n",
            " bidirectional (Bidirectiona  (None, 128)              164352    \n",
            " l)                                                              \n",
            "                                                                 \n",
            " dense_2 (Dense)             (None, 64)                8256      \n",
            "                                                                 \n",
            " dropout_1 (Dropout)         (None, 64)                0         \n",
            "                                                                 \n",
            " dense_3 (Dense)             (None, 6)                 390       \n",
            "                                                                 \n",
            "=================================================================\n",
            "Total params: 684,998\n",
            "Trainable params: 684,998\n",
            "Non-trainable params: 0\n",
            "_________________________________________________________________\n"
          ]
        }
      ]
    },
    {
      "cell_type": "code",
      "source": [
        "history2 = model2.fit(X_train_H, y_train,\n",
        "          epochs=10,\n",
        "          verbose=2,\n",
        "          validation_split = 0.15,\n",
        "          batch_size=258,\n",
        "          callbacks = parada)"
      ],
      "metadata": {
        "colab": {
          "base_uri": "https://localhost:8080/"
        },
        "id": "W0Q0FSB3uj1v",
        "outputId": "de35d1ab-d076-4b13-ab7d-5bdf24b2be4b"
      },
      "execution_count": 39,
      "outputs": [
        {
          "output_type": "stream",
          "name": "stdout",
          "text": [
            "Epoch 1/10\n",
            "11/11 - 28s - loss: 1.6457 - accuracy: 0.6273 - val_loss: 1.1726 - val_accuracy: 0.6948 - 28s/epoch - 3s/step\n",
            "Epoch 2/10\n",
            "11/11 - 14s - loss: 1.0913 - accuracy: 0.6716 - val_loss: 0.9455 - val_accuracy: 0.6948 - 14s/epoch - 1s/step\n",
            "Epoch 3/10\n",
            "11/11 - 12s - loss: 0.9572 - accuracy: 0.6716 - val_loss: 0.8526 - val_accuracy: 0.6948 - 12s/epoch - 1s/step\n",
            "Epoch 4/10\n",
            "11/11 - 12s - loss: 0.8783 - accuracy: 0.6713 - val_loss: 0.8196 - val_accuracy: 0.6970 - 12s/epoch - 1s/step\n",
            "Epoch 5/10\n",
            "11/11 - 12s - loss: 0.7973 - accuracy: 0.6766 - val_loss: 0.8042 - val_accuracy: 0.6991 - 12s/epoch - 1s/step\n",
            "Epoch 6/10\n",
            "11/11 - 12s - loss: 0.7127 - accuracy: 0.7087 - val_loss: 0.8091 - val_accuracy: 0.6753 - 12s/epoch - 1s/step\n",
            "Epoch 7/10\n",
            "11/11 - 12s - loss: 0.6367 - accuracy: 0.7557 - val_loss: 0.8302 - val_accuracy: 0.6710 - 12s/epoch - 1s/step\n",
            "Epoch 8/10\n",
            "11/11 - 11s - loss: 0.5553 - accuracy: 0.7848 - val_loss: 0.8814 - val_accuracy: 0.6688 - 11s/epoch - 1s/step\n"
          ]
        }
      ]
    },
    {
      "cell_type": "markdown",
      "source": [
        "Gráfico de acurácia e perda do modelo usando LSTM unidirecional"
      ],
      "metadata": {
        "id": "NcTfXcL5jKRr"
      }
    },
    {
      "cell_type": "code",
      "source": [
        "acc = history1.history['accuracy']\n",
        "val_acc = history1.history['val_accuracy']\n",
        "loss = history1.history['loss']\n",
        "val_loss = history1.history['val_loss']\n",
        "x = range(1, len(acc) + 1)\n",
        "\n",
        "plt.figure(figsize=(12, 5))\n",
        "plt.subplot(1, 2, 1)\n",
        "plt.plot(x, acc, 'b', label='Treino acc')\n",
        "plt.plot(x, val_acc, 'r', label='Validação acc')\n",
        "plt.title('Acurácia do treinamento e da validação')\n",
        "plt.legend()\n",
        "plt.subplot(1, 2, 2)\n",
        "plt.plot(x, loss, 'b', label='Training loss')\n",
        "plt.plot(x, val_loss, 'r', label='Validation loss')\n",
        "plt.title('Perda do treinamento e validação')\n",
        "plt.legend()"
      ],
      "metadata": {
        "colab": {
          "base_uri": "https://localhost:8080/",
          "height": 353
        },
        "id": "oLo385OHjEAV",
        "outputId": "b8d8e720-bef6-4476-82c9-d87711ce9cfa"
      },
      "execution_count": 40,
      "outputs": [
        {
          "output_type": "execute_result",
          "data": {
            "text/plain": [
              "<matplotlib.legend.Legend at 0x7f2f09008990>"
            ]
          },
          "metadata": {},
          "execution_count": 40
        },
        {
          "output_type": "display_data",
          "data": {
            "text/plain": [
              "<Figure size 864x360 with 2 Axes>"
            ],
            "image/png": "[encoded data removed]"
          },
          "metadata": {
            "needs_background": "light"
          }
        }
      ]
    },
    {
      "cell_type": "markdown",
      "source": [
        "Gráfico de acurácia e perda do modelo usando LSTM bidirecional"
      ],
      "metadata": {
        "id": "n2zoHCsYjTK9"
      }
    },
    {
      "cell_type": "code",
      "source": [
        "acc = history2.history['accuracy']\n",
        "val_acc = history2.history['val_accuracy']\n",
        "loss = history2.history['loss']\n",
        "val_loss = history2.history['val_loss']\n",
        "x = range(1, len(acc) + 1)\n",
        "\n",
        "plt.figure(figsize=(12, 5))\n",
        "plt.subplot(1, 2, 1)\n",
        "plt.plot(x, acc, 'b', label='Treino acc')\n",
        "plt.plot(x, val_acc, 'r', label='Validação acc')\n",
        "plt.title('Acurácia do treinamento e da validação')\n",
        "plt.legend()\n",
        "plt.subplot(1, 2, 2)\n",
        "plt.plot(x, loss, 'b', label='Training loss')\n",
        "plt.plot(x, val_loss, 'r', label='Validation loss')\n",
        "plt.title('Perda do treinamento e validação')\n",
        "plt.legend()\n"
      ],
      "metadata": {
        "colab": {
          "base_uri": "https://localhost:8080/",
          "height": 353
        },
        "id": "ZBaZA50seLJ4",
        "outputId": "16248301-e36e-4a08-c71a-0ce6fd3436e5"
      },
      "execution_count": 41,
      "outputs": [
        {
          "output_type": "execute_result",
          "data": {
            "text/plain": [
              "<matplotlib.legend.Legend at 0x7f2f08f57750>"
            ]
          },
          "metadata": {},
          "execution_count": 41
        },
        {
          "output_type": "display_data",
          "data": {
            "text/plain": [
              "<Figure size 864x360 with 2 Axes>"
            ],
            "image/png": "[encoded data removed]"
          },
          "metadata": {
            "needs_background": "light"
          }
        }
      ]
    },
    {
      "cell_type": "markdown",
      "source": [
        "Matrix de confusão usando o modelo com a LSTM unidirecional"
      ],
      "metadata": {
        "id": "G1kA9Zw4kAkU"
      }
    },
    {
      "cell_type": "code",
      "source": [
        "y_pred1 = model1.predict(X_test_H)\n",
        "y_pred1 = [np.argmax(x) for x in y_pred1]\n",
        "\n",
        "y_test1 = [int(x) for x in y_test]\n",
        "\n",
        "conf_matrix = confusion_matrix(y_test, y_pred)\n",
        "\n",
        "ax = sns.heatmap(conf_matrix, annot=True,  fmt='g')\n",
        "ax.set(xlabel='Y test', ylabel='Y pred')\n",
        "plt.show()"
      ],
      "metadata": {
        "colab": {
          "base_uri": "https://localhost:8080/",
          "height": 279
        },
        "id": "-_x8uxelnSNW",
        "outputId": "a98ddc64-a4dc-41bb-c862-90dafe67fa96"
      },
      "execution_count": 42,
      "outputs": [
        {
          "output_type": "display_data",
          "data": {
            "text/plain": [
              "<Figure size 432x288 with 2 Axes>"
            ],
            "image/png": "[encoded data removed]"
          },
          "metadata": {
            "needs_background": "light"
          }
        }
      ]
    },
    {
      "cell_type": "markdown",
      "source": [
        "Matrix de confusão usando o modelo com a LSTM bidirecional"
      ],
      "metadata": {
        "id": "IVYZVe4ykGNb"
      }
    },
    {
      "cell_type": "code",
      "source": [
        "y_pred2 = model2.predict(X_test_H)\n",
        "y_pred2 = [np.argmax(x) for x in y_pred2]\n",
        "\n",
        "y_test = [int(x) for x in y_test]\n",
        "\n",
        "conf_matrix = confusion_matrix(y_test, y_pred2)\n",
        "\n",
        "ax = sns.heatmap(conf_matrix, annot=True,  fmt='g')\n",
        "ax.set(xlabel='Y test', ylabel='Y pred')\n",
        "plt.show()"
      ],
      "metadata": {
        "colab": {
          "base_uri": "https://localhost:8080/",
          "height": 279
        },
        "id": "wybIkd0z7sVP",
        "outputId": "0acc5190-f619-475b-83b0-f55e4904e55f"
      },
      "execution_count": 43,
      "outputs": [
        {
          "output_type": "display_data",
          "data": {
            "text/plain": [
              "<Figure size 432x288 with 2 Axes>"
            ],
            "image/png": "[encoded data removed]"
          },
          "metadata": {
            "needs_background": "light"
          }
        }
      ]
    }
  ]
}